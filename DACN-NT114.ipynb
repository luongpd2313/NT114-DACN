{
 "cells": [
  {
   "cell_type": "markdown",
   "metadata": {
    "id": "kEJTJXnwtLTy"
   },
   "source": [
    "# **Preprocess dataset**\n",
    "We will preprocess Edge-IIoT dataset in this section"
   ]
  },
  {
   "cell_type": "code",
   "execution_count": 1,
   "metadata": {
    "executionInfo": {
     "elapsed": 7934,
     "status": "ok",
     "timestamp": 1730873164417,
     "user": {
      "displayName": "Thiện Hồ Ngọc",
      "userId": "11639870260678535712"
     },
     "user_tz": -420
    },
    "id": "VSMusBWqtRBd"
   },
   "outputs": [],
   "source": [
    "import numpy as np\n",
    "import pandas as pd\n",
    "import os\n",
    "\n",
    "import csv\n",
    "import matplotlib.pyplot as plt\n",
    "\n",
    "from sklearn.utils import resample\n",
    "from sklearn.model_selection import train_test_split\n",
    "from sklearn.preprocessing import MinMaxScaler\n",
    "from sklearn.preprocessing import LabelEncoder\n",
    "from sklearn.preprocessing import StandardScaler\n",
    "from sklearn import preprocessing\n",
    "import tensorflow as tf\n",
    "\n",
    "from tensorflow.keras.models import Sequential\n",
    "from tensorflow.keras.layers import Conv1D, AvgPool1D, Flatten, Dense, Dropout, Softmax\n",
    "from tensorflow.keras.optimizers import Adam\n",
    "from tensorflow.keras import regularizers\n",
    "from tensorflow.keras.utils import to_categorical, plot_model\n",
    "\n",
    "from sklearn.utils import shuffle"
   ]
  },
  {
   "cell_type": "code",
   "execution_count": null,
   "metadata": {
    "executionInfo": {
     "elapsed": 47471,
     "status": "ok",
     "timestamp": 1730876001219,
     "user": {
      "displayName": "Thiện Hồ Ngọc",
      "userId": "11639870260678535712"
     },
     "user_tz": -420
    },
    "id": "iYv79QO0td10"
   },
   "outputs": [],
   "source": [
    "os.chdir(\"D:\\\\IDSGAN\\\\IDSGAN-main\\\\IDSGAN\\\\Dataset\\\\Edge-IIoTset\\\\\")\n",
    "df = pd.read_csv(\"D:\\\\IDSGAN\\\\IDSGAN-main\\\\IDSGAN\\\\Dataset\\\\Edge-IIoTset\\\\DNN-EdgeIIoT-dataset.csv\", low_memory=False)\n"
   ]
  },
  {
   "cell_type": "code",
   "execution_count": 41,
   "metadata": {},
   "outputs": [
    {
     "name": "stderr",
     "output_type": "stream",
     "text": [
      "C:\\Users\\Ngoc Thien\\AppData\\Local\\Temp\\ipykernel_7892\\1289634901.py:2: DtypeWarning: Columns (2,3,6,11,13,14,15,16,17,31,32,34,39,45,51,54,55) have mixed types. Specify dtype option on import or set low_memory=False.\n",
      "  file1 = pd.read_csv('D:\\\\IDSGAN\\\\IDSGAN-main\\\\IDSGAN\\\\Dataset\\\\Edge-IIoTset\\\\DNN-EdgeIIoT-dataset.csv')\n",
      "C:\\Users\\Ngoc Thien\\AppData\\Local\\Temp\\ipykernel_7892\\1289634901.py:12: DtypeWarning: Columns (31) have mixed types. Specify dtype option on import or set low_memory=False.\n",
      "  file2 = pd.read_csv('D:\\\\IDSGAN\\\\IDSGAN-main\\\\IDSGAN\\\\Dataset\\\\Edge-IIoTset\\\\synthetic_data_CS.csv')\n"
     ]
    }
   ],
   "source": [
    "#Combine dataset for pretrain model\n",
    "file1 = pd.read_csv('D:\\\\IDSGAN\\\\IDSGAN-main\\\\IDSGAN\\\\Dataset\\\\Edge-IIoTset\\\\DNN-EdgeIIoT-dataset.csv')\n",
    "drop_columns = [\"frame.time\", \"ip.src_host\", \"ip.dst_host\", \"arp.src.proto_ipv4\",\"arp.dst.proto_ipv4\",\n",
    "                \"http.file_data\",\"http.request.full_uri\",\"icmp.transmit_timestamp\",\n",
    "                \"http.request.uri.query\", \"tcp.options\",\"tcp.payload\",\"tcp.srcport\",\n",
    "                \"tcp.dstport\", \"udp.port\", \"mqtt.msg\"]\n",
    "\n",
    "file1.drop(drop_columns, axis=1, inplace=True)\n",
    "file1.dropna(axis=0, how='any', inplace=True)\n",
    "file1.drop_duplicates(subset=None, keep=\"first\", inplace=True)\n",
    "\n",
    "file2 = pd.read_csv('D:\\\\IDSGAN\\\\IDSGAN-main\\\\IDSGAN\\\\Dataset\\\\Edge-IIoTset\\\\synthetic_data_CS.csv')\n",
    "df = pd.concat( [file1,file2],ignore_index=True)\n",
    "df.to_csv('combined_file.csv', index=False)\n",
    "df = pd.read_csv(\"combined_file.csv\", low_memory=False)"
   ]
  },
  {
   "cell_type": "code",
   "execution_count": null,
   "metadata": {
    "colab": {
     "base_uri": "https://localhost:8080/"
    },
    "executionInfo": {
     "elapsed": 489,
     "status": "ok",
     "timestamp": 1730204917465,
     "user": {
      "displayName": "Thiện Hồ Ngọc",
      "userId": "11639870260678535712"
     },
     "user_tz": -420
    },
    "id": "B--xbbCQtyhZ",
    "outputId": "92101b26-3e9a-4f8c-f023-f58030543bfa"
   },
   "outputs": [
    {
     "name": "stdout",
     "output_type": "stream",
     "text": [
      "['Normal' 'MITM' 'Uploading' 'Ransomware' 'SQL_injection' 'DDoS_HTTP'\n",
      " 'DDoS_TCP' 'Password' 'Port_Scanning' 'Vulnerability_scanner' 'Backdoor'\n",
      " 'XSS' 'Fingerprinting' 'DDoS_UDP' 'DDoS_ICMP']\n"
     ]
    }
   ],
   "source": [
    "print(df[\"Attack_type\"].unique())"
   ]
  },
  {
   "cell_type": "code",
   "execution_count": 39,
   "metadata": {
    "executionInfo": {
     "elapsed": 11254,
     "status": "ok",
     "timestamp": 1730875726354,
     "user": {
      "displayName": "Thiện Hồ Ngọc",
      "userId": "11639870260678535712"
     },
     "user_tz": -420
    },
    "id": "dC_zJ7kxt2m8"
   },
   "outputs": [],
   "source": [
    "drop_columns = [\"frame.time\", \"ip.src_host\", \"ip.dst_host\", \"arp.src.proto_ipv4\",\"arp.dst.proto_ipv4\",\n",
    "                \"http.file_data\",\"http.request.full_uri\",\"icmp.transmit_timestamp\",\n",
    "                \"http.request.uri.query\", \"tcp.options\",\"tcp.payload\",\"tcp.srcport\",\n",
    "                \"tcp.dstport\", \"udp.port\", \"mqtt.msg\"]\n",
    "\n",
    "df.drop(drop_columns, axis=1, inplace=True)\n",
    "df.dropna(axis=0, how='any', inplace=True)\n",
    "df.drop_duplicates(subset=None, keep=\"first\", inplace=True)\n",
    "df = shuffle(df) #shuffle row of df"
   ]
  },
  {
   "cell_type": "code",
   "execution_count": 42,
   "metadata": {
    "executionInfo": {
     "elapsed": 4461,
     "status": "ok",
     "timestamp": 1730875738127,
     "user": {
      "displayName": "Thiện Hồ Ngọc",
      "userId": "11639870260678535712"
     },
     "user_tz": -420
    },
    "id": "pLvrdnn1uEhj"
   },
   "outputs": [],
   "source": [
    "#one-hot encoding\n",
    "def encode_text_dummy(df, name):\n",
    "    dummies = pd.get_dummies(df[name])\n",
    "    for x in dummies.columns:\n",
    "        dummy_name = f\"{name}-{x}\"\n",
    "        df[dummy_name] = dummies[x]\n",
    "    df.drop(name, axis=1, inplace=True)\n",
    "\n",
    "encode_text_dummy(df,'http.request.method')\n",
    "encode_text_dummy(df,'http.referer')\n",
    "encode_text_dummy(df,\"http.request.version\")\n",
    "encode_text_dummy(df,\"dns.qry.name.len\")\n",
    "encode_text_dummy(df,\"mqtt.conack.flags\")\n",
    "encode_text_dummy(df,\"mqtt.protoname\")\n",
    "encode_text_dummy(df,\"mqtt.topic\")\n"
   ]
  },
  {
   "cell_type": "code",
   "execution_count": 43,
   "metadata": {
    "colab": {
     "base_uri": "https://localhost:8080/"
    },
    "executionInfo": {
     "elapsed": 419,
     "status": "ok",
     "timestamp": 1730875752379,
     "user": {
      "displayName": "Thiện Hồ Ngọc",
      "userId": "11639870260678535712"
     },
     "user_tz": -420
    },
    "id": "GE_tAkX7O8cr",
    "outputId": "5f725907-06a0-43ac-93a0-6ec0ffb830fe"
   },
   "outputs": [
    {
     "name": "stdout",
     "output_type": "stream",
     "text": [
      "97\n"
     ]
    }
   ],
   "source": [
    "print(len(df.columns))"
   ]
  },
  {
   "cell_type": "code",
   "execution_count": null,
   "metadata": {
    "id": "U8ZtB7dDuRLz"
   },
   "outputs": [],
   "source": [
    "# Apply Median Filtering to all features\n",
    "window_size_median = 3  # Window size for median filtering\n",
    "for feature in df.columns:\n",
    "    if feature != 'Attack_type':  # Exclude the label column\n",
    "        df[feature + '_median_filtered'] = df[feature].rolling(window=window_size_median, center=True).median()\n",
    "\n",
    "# Apply Standard Deviation-based Filtering to all features\n",
    "threshold_std = 3  # Threshold for standard deviation-based filtering\n",
    "for feature in df.columns:\n",
    "    if feature != 'Attack_type':  # Exclude the label column\n",
    "        mean = df[feature].mean()\n",
    "        std = df[feature].std()\n",
    "        upper_bound = mean + threshold_std * std\n",
    "        lower_bound = mean - threshold_std * std\n",
    "        df[feature + '_std_filtered'] = df[feature].apply(lambda x: x if (lower_bound <= x <= upper_bound) else None)\n",
    "\n",
    "# Drop original features that were filtered\n",
    "df.drop(df.columns[df.columns.str.endswith('_filtered')], axis=1, inplace=True)"
   ]
  },
  {
   "cell_type": "code",
   "execution_count": 45,
   "metadata": {},
   "outputs": [],
   "source": [
    "df.to_csv('preprocessed_combined.csv', index=False)"
   ]
  },
  {
   "cell_type": "code",
   "execution_count": null,
   "metadata": {
    "colab": {
     "base_uri": "https://localhost:8080/"
    },
    "executionInfo": {
     "elapsed": 5324,
     "status": "ok",
     "timestamp": 1730814961092,
     "user": {
      "displayName": "Thiện Hồ Ngọc",
      "userId": "11639870260678535712"
     },
     "user_tz": -420
    },
    "id": "K1pdHCcdPa-4",
    "outputId": "8d489539-a528-426a-8298-31fe0a0a4ca2"
   },
   "outputs": [
    {
     "name": "stdout",
     "output_type": "stream",
     "text": [
      "X:  (1909671, 96)\n",
      "y:  (1909671,)\n",
      "Training samples:  381935\n",
      "X_train:  (1527736, 96)\n",
      "y_train:  (1527736,)\n",
      "X_test:  (381935, 96)\n",
      "y_test:  (381935,)\n"
     ]
    }
   ],
   "source": [
    "#df = pd.read_csv('preprocessed.csv', low_memory=False)\n",
    "# df = pd.read_csv('preprocessed_combined.csv', low_memory=False)\n",
    "df = pd.read_csv('preprocessed_DNN.csv', low_memory=False)\n",
    "label_col = \"Attack_type\"\n",
    "# X = preprocessed_df.drop([label_col], axis=1)\n",
    "# y = preprocessed_df[label_col]\n",
    "X = df.drop([label_col], axis=1)\n",
    "y = df[label_col]\n",
    "print(\"X: \", X.shape)\n",
    "print(\"y: \", y.shape)\n",
    "\n",
    "from sklearn.model_selection import train_test_split\n",
    "\n",
    "X_train, X_test, y_train, y_test = train_test_split(X, y, test_size=0.2, random_state=1, stratify=y)\n",
    "\n",
    "test_shape = X_test.shape[0]\n",
    "print(\"Training samples: \", test_shape)\n",
    "\n",
    "del X\n",
    "del y\n",
    "print(\"X_train: \", X_train.shape)\n",
    "print(\"y_train: \", y_train.shape)\n",
    "print(\"X_test: \", X_test.shape)\n",
    "print(\"y_test: \", y_test.shape)"
   ]
  },
  {
   "cell_type": "code",
   "execution_count": 3,
   "metadata": {
    "executionInfo": {
     "elapsed": 16967,
     "status": "ok",
     "timestamp": 1730814996672,
     "user": {
      "displayName": "Thiện Hồ Ngọc",
      "userId": "11639870260678535712"
     },
     "user_tz": -420
    },
    "id": "cW4KWkQuSTIK"
   },
   "outputs": [],
   "source": [
    "# Converting categorical value in \"Attack_type\" to integer value\n",
    "from sklearn.preprocessing import LabelEncoder\n",
    "\n",
    "label_encoder = LabelEncoder()\n",
    "y_train =  label_encoder.fit_transform(y_train)\n",
    "y_test = label_encoder.transform(y_test)\n",
    "\n",
    "label_encoder.classes_\n",
    "\n",
    "#Normalize\n",
    "from sklearn.preprocessing import MinMaxScaler\n",
    "\n",
    "min_max_scaler = MinMaxScaler()\n",
    "X_train =  min_max_scaler.fit_transform(X_train)\n",
    "X_test = min_max_scaler.transform(X_test)"
   ]
  },
  {
   "cell_type": "code",
   "execution_count": 5,
   "metadata": {
    "colab": {
     "base_uri": "https://localhost:8080/"
    },
    "executionInfo": {
     "elapsed": 379,
     "status": "ok",
     "timestamp": 1730815028981,
     "user": {
      "displayName": "Thiện Hồ Ngọc",
      "userId": "11639870260678535712"
     },
     "user_tz": -420
    },
    "id": "N33Ngme7nL3C",
    "outputId": "fe72a0fb-03a4-4ec9-83fe-ddedb522389c"
   },
   "outputs": [
    {
     "data": {
      "text/plain": [
       "(1854243, 96)"
      ]
     },
     "execution_count": 5,
     "metadata": {},
     "output_type": "execute_result"
    }
   ],
   "source": [
    "X_train.shape"
   ]
  },
  {
   "cell_type": "code",
   "execution_count": 4,
   "metadata": {
    "colab": {
     "base_uri": "https://localhost:8080/"
    },
    "executionInfo": {
     "elapsed": 597,
     "status": "ok",
     "timestamp": 1730280190893,
     "user": {
      "displayName": "Thiện Hồ Ngọc",
      "userId": "11639870260678535712"
     },
     "user_tz": -420
    },
    "id": "oahIzySbSgXg",
    "outputId": "0f966753-8f6d-43c7-b9b6-3c197ece5146"
   },
   "outputs": [
    {
     "data": {
      "text/plain": [
       "15"
      ]
     },
     "execution_count": 4,
     "metadata": {},
     "output_type": "execute_result"
    }
   ],
   "source": [
    "num_classes = len(np.unique(y_train))\n",
    "num_classes"
   ]
  },
  {
   "cell_type": "code",
   "execution_count": 5,
   "metadata": {
    "id": "_vL8lx7_SjX1"
   },
   "outputs": [],
   "source": [
    "# One-hot y_train and y_test\n",
    "from  tensorflow.keras.utils import to_categorical\n",
    "\n",
    "y_train = to_categorical(y_train, num_classes=num_classes)\n",
    "y_test = to_categorical(y_test, num_classes=num_classes)"
   ]
  },
  {
   "cell_type": "markdown",
   "metadata": {
    "id": "Rp0hZkYEtAhL"
   },
   "source": [
    "# **CNN-based IDS**"
   ]
  },
  {
   "cell_type": "markdown",
   "metadata": {},
   "source": [
    "**Have 3 layer**"
   ]
  },
  {
   "cell_type": "code",
   "execution_count": 10,
   "metadata": {
    "id": "N5nt5EK6UbBi"
   },
   "outputs": [],
   "source": [
    "# Convert X_train and X_test dimension to 3-dimensional (row, column, channel)\n",
    "X_train_CNN_3_layers = X_train.reshape(X_train.shape[0], X_train.shape[1], 1)\n",
    "X_test_CNN_3_layers = X_test.reshape(X_test.shape[0], X_test.shape[1], 1)"
   ]
  },
  {
   "cell_type": "code",
   "execution_count": 51,
   "metadata": {
    "colab": {
     "base_uri": "https://localhost:8080/"
    },
    "executionInfo": {
     "elapsed": 592,
     "status": "ok",
     "timestamp": 1730206293332,
     "user": {
      "displayName": "Thiện Hồ Ngọc",
      "userId": "11639870260678535712"
     },
     "user_tz": -420
    },
    "id": "EYpz8WIFUgFM",
    "outputId": "957dc36a-2ec5-4103-fc35-f419bd19cdfb"
   },
   "outputs": [
    {
     "name": "stdout",
     "output_type": "stream",
     "text": [
      "(1854243, 96, 1)\n",
      "(463561, 96, 1)\n",
      "(96, 1)\n"
     ]
    }
   ],
   "source": [
    "print(X_train_CNN_3_layers.shape)\n",
    "print(X_test_CNN_3_layers.shape)\n",
    "input_shape = X_train_CNN_3_layers.shape[1:]\n",
    "print(input_shape)"
   ]
  },
  {
   "cell_type": "code",
   "execution_count": 52,
   "metadata": {
    "colab": {
     "base_uri": "https://localhost:8080/",
     "height": 287
    },
    "executionInfo": {
     "elapsed": 588,
     "status": "ok",
     "timestamp": 1730212202702,
     "user": {
      "displayName": "Thiện Hồ Ngọc",
      "userId": "11639870260678535712"
     },
     "user_tz": -420
    },
    "id": "emUSUmjbYmYx",
    "outputId": "2d973835-d91e-4b6e-8e48-d8a17ea9a915"
   },
   "outputs": [
    {
     "name": "stderr",
     "output_type": "stream",
     "text": [
      "d:\\IDSGAN\\IDSGAN-main\\IDSGAN\\myenv\\Lib\\site-packages\\keras\\src\\layers\\convolutional\\base_conv.py:107: UserWarning: Do not pass an `input_shape`/`input_dim` argument to a layer. When using Sequential models, prefer using an `Input(shape)` object as the first layer in the model instead.\n",
      "  super().__init__(activity_regularizer=activity_regularizer, **kwargs)\n"
     ]
    },
    {
     "data": {
      "text/html": [
       "<pre style=\"white-space:pre;overflow-x:auto;line-height:normal;font-family:Menlo,'DejaVu Sans Mono',consolas,'Courier New',monospace\"><span style=\"font-weight: bold\">Model: \"sequential\"</span>\n",
       "</pre>\n"
      ],
      "text/plain": [
       "\u001b[1mModel: \"sequential\"\u001b[0m\n"
      ]
     },
     "metadata": {},
     "output_type": "display_data"
    },
    {
     "data": {
      "text/html": [
       "<pre style=\"white-space:pre;overflow-x:auto;line-height:normal;font-family:Menlo,'DejaVu Sans Mono',consolas,'Courier New',monospace\">┏━━━━━━━━━━━━━━━━━━━━━━━━━━━━━━━━━┳━━━━━━━━━━━━━━━━━━━━━━━━┳━━━━━━━━━━━━━━━┓\n",
       "┃<span style=\"font-weight: bold\"> Layer (type)                    </span>┃<span style=\"font-weight: bold\"> Output Shape           </span>┃<span style=\"font-weight: bold\">       Param # </span>┃\n",
       "┡━━━━━━━━━━━━━━━━━━━━━━━━━━━━━━━━━╇━━━━━━━━━━━━━━━━━━━━━━━━╇━━━━━━━━━━━━━━━┩\n",
       "│ conv1d (<span style=\"color: #0087ff; text-decoration-color: #0087ff\">Conv1D</span>)                 │ (<span style=\"color: #00d7ff; text-decoration-color: #00d7ff\">None</span>, <span style=\"color: #00af00; text-decoration-color: #00af00\">94</span>, <span style=\"color: #00af00; text-decoration-color: #00af00\">32</span>)         │           <span style=\"color: #00af00; text-decoration-color: #00af00\">128</span> │\n",
       "├─────────────────────────────────┼────────────────────────┼───────────────┤\n",
       "│ max_pooling1d (<span style=\"color: #0087ff; text-decoration-color: #0087ff\">MaxPooling1D</span>)    │ (<span style=\"color: #00d7ff; text-decoration-color: #00d7ff\">None</span>, <span style=\"color: #00af00; text-decoration-color: #00af00\">47</span>, <span style=\"color: #00af00; text-decoration-color: #00af00\">32</span>)         │             <span style=\"color: #00af00; text-decoration-color: #00af00\">0</span> │\n",
       "├─────────────────────────────────┼────────────────────────┼───────────────┤\n",
       "│ flatten (<span style=\"color: #0087ff; text-decoration-color: #0087ff\">Flatten</span>)               │ (<span style=\"color: #00d7ff; text-decoration-color: #00d7ff\">None</span>, <span style=\"color: #00af00; text-decoration-color: #00af00\">1504</span>)           │             <span style=\"color: #00af00; text-decoration-color: #00af00\">0</span> │\n",
       "├─────────────────────────────────┼────────────────────────┼───────────────┤\n",
       "│ dense (<span style=\"color: #0087ff; text-decoration-color: #0087ff\">Dense</span>)                   │ (<span style=\"color: #00d7ff; text-decoration-color: #00d7ff\">None</span>, <span style=\"color: #00af00; text-decoration-color: #00af00\">15</span>)             │        <span style=\"color: #00af00; text-decoration-color: #00af00\">22,575</span> │\n",
       "└─────────────────────────────────┴────────────────────────┴───────────────┘\n",
       "</pre>\n"
      ],
      "text/plain": [
       "┏━━━━━━━━━━━━━━━━━━━━━━━━━━━━━━━━━┳━━━━━━━━━━━━━━━━━━━━━━━━┳━━━━━━━━━━━━━━━┓\n",
       "┃\u001b[1m \u001b[0m\u001b[1mLayer (type)                   \u001b[0m\u001b[1m \u001b[0m┃\u001b[1m \u001b[0m\u001b[1mOutput Shape          \u001b[0m\u001b[1m \u001b[0m┃\u001b[1m \u001b[0m\u001b[1m      Param #\u001b[0m\u001b[1m \u001b[0m┃\n",
       "┡━━━━━━━━━━━━━━━━━━━━━━━━━━━━━━━━━╇━━━━━━━━━━━━━━━━━━━━━━━━╇━━━━━━━━━━━━━━━┩\n",
       "│ conv1d (\u001b[38;5;33mConv1D\u001b[0m)                 │ (\u001b[38;5;45mNone\u001b[0m, \u001b[38;5;34m94\u001b[0m, \u001b[38;5;34m32\u001b[0m)         │           \u001b[38;5;34m128\u001b[0m │\n",
       "├─────────────────────────────────┼────────────────────────┼───────────────┤\n",
       "│ max_pooling1d (\u001b[38;5;33mMaxPooling1D\u001b[0m)    │ (\u001b[38;5;45mNone\u001b[0m, \u001b[38;5;34m47\u001b[0m, \u001b[38;5;34m32\u001b[0m)         │             \u001b[38;5;34m0\u001b[0m │\n",
       "├─────────────────────────────────┼────────────────────────┼───────────────┤\n",
       "│ flatten (\u001b[38;5;33mFlatten\u001b[0m)               │ (\u001b[38;5;45mNone\u001b[0m, \u001b[38;5;34m1504\u001b[0m)           │             \u001b[38;5;34m0\u001b[0m │\n",
       "├─────────────────────────────────┼────────────────────────┼───────────────┤\n",
       "│ dense (\u001b[38;5;33mDense\u001b[0m)                   │ (\u001b[38;5;45mNone\u001b[0m, \u001b[38;5;34m15\u001b[0m)             │        \u001b[38;5;34m22,575\u001b[0m │\n",
       "└─────────────────────────────────┴────────────────────────┴───────────────┘\n"
      ]
     },
     "metadata": {},
     "output_type": "display_data"
    },
    {
     "data": {
      "text/html": [
       "<pre style=\"white-space:pre;overflow-x:auto;line-height:normal;font-family:Menlo,'DejaVu Sans Mono',consolas,'Courier New',monospace\"><span style=\"font-weight: bold\"> Total params: </span><span style=\"color: #00af00; text-decoration-color: #00af00\">22,703</span> (88.68 KB)\n",
       "</pre>\n"
      ],
      "text/plain": [
       "\u001b[1m Total params: \u001b[0m\u001b[38;5;34m22,703\u001b[0m (88.68 KB)\n"
      ]
     },
     "metadata": {},
     "output_type": "display_data"
    },
    {
     "data": {
      "text/html": [
       "<pre style=\"white-space:pre;overflow-x:auto;line-height:normal;font-family:Menlo,'DejaVu Sans Mono',consolas,'Courier New',monospace\"><span style=\"font-weight: bold\"> Trainable params: </span><span style=\"color: #00af00; text-decoration-color: #00af00\">22,703</span> (88.68 KB)\n",
       "</pre>\n"
      ],
      "text/plain": [
       "\u001b[1m Trainable params: \u001b[0m\u001b[38;5;34m22,703\u001b[0m (88.68 KB)\n"
      ]
     },
     "metadata": {},
     "output_type": "display_data"
    },
    {
     "data": {
      "text/html": [
       "<pre style=\"white-space:pre;overflow-x:auto;line-height:normal;font-family:Menlo,'DejaVu Sans Mono',consolas,'Courier New',monospace\"><span style=\"font-weight: bold\"> Non-trainable params: </span><span style=\"color: #00af00; text-decoration-color: #00af00\">0</span> (0.00 B)\n",
       "</pre>\n"
      ],
      "text/plain": [
       "\u001b[1m Non-trainable params: \u001b[0m\u001b[38;5;34m0\u001b[0m (0.00 B)\n"
      ]
     },
     "metadata": {},
     "output_type": "display_data"
    }
   ],
   "source": [
    "#CNN-based IDS model with 3 layers\n",
    "#A deep learning approach for intrusion detection in Internet of Things using focal loss function\n",
    "from tensorflow.keras.layers import Reshape\n",
    "from tensorflow.keras.layers import Conv1D, MaxPooling1D, Flatten, Dense\n",
    "\n",
    "model = Sequential()\n",
    "\n",
    "# Convolutional layers\n",
    "model.add(Conv1D(32, 3, activation='relu', input_shape=input_shape))\n",
    "model.add(MaxPooling1D(2))\n",
    "model.add(Flatten())\n",
    "model.add(Dense(num_classes, activation='softmax'))\n",
    "model.summary()"
   ]
  },
  {
   "cell_type": "code",
   "execution_count": 53,
   "metadata": {
    "colab": {
     "base_uri": "https://localhost:8080/"
    },
    "executionInfo": {
     "elapsed": 1211253,
     "status": "ok",
     "timestamp": 1730213420931,
     "user": {
      "displayName": "Thiện Hồ Ngọc",
      "userId": "11639870260678535712"
     },
     "user_tz": -420
    },
    "id": "eNI-htXAZPuV",
    "outputId": "64a344c4-cd4b-4301-fb9c-c5b99430e51c"
   },
   "outputs": [
    {
     "name": "stdout",
     "output_type": "stream",
     "text": [
      "Epoch 1/15\n",
      "\u001b[1m7244/7244\u001b[0m \u001b[32m━━━━━━━━━━━━━━━━━━━━\u001b[0m\u001b[37m\u001b[0m \u001b[1m24s\u001b[0m 3ms/step - accuracy: 0.8550 - loss: 0.4891 - val_accuracy: 0.8715 - val_loss: 0.3985 - learning_rate: 0.0010\n",
      "Epoch 2/15\n",
      "\u001b[1m7244/7244\u001b[0m \u001b[32m━━━━━━━━━━━━━━━━━━━━\u001b[0m\u001b[37m\u001b[0m \u001b[1m26s\u001b[0m 4ms/step - accuracy: 0.8721 - loss: 0.3958 - val_accuracy: 0.8724 - val_loss: 0.3934 - learning_rate: 0.0010\n",
      "Epoch 3/15\n",
      "\u001b[1m7244/7244\u001b[0m \u001b[32m━━━━━━━━━━━━━━━━━━━━\u001b[0m\u001b[37m\u001b[0m \u001b[1m22s\u001b[0m 3ms/step - accuracy: 0.8729 - loss: 0.3919 - val_accuracy: 0.8737 - val_loss: 0.3912 - learning_rate: 0.0010\n",
      "Epoch 4/15\n",
      "\u001b[1m7244/7244\u001b[0m \u001b[32m━━━━━━━━━━━━━━━━━━━━\u001b[0m\u001b[37m\u001b[0m \u001b[1m46s\u001b[0m 6ms/step - accuracy: 0.8737 - loss: 0.3876 - val_accuracy: 0.8766 - val_loss: 0.3871 - learning_rate: 0.0010\n",
      "Epoch 5/15\n",
      "\u001b[1m7244/7244\u001b[0m \u001b[32m━━━━━━━━━━━━━━━━━━━━\u001b[0m\u001b[37m\u001b[0m \u001b[1m58s\u001b[0m 8ms/step - accuracy: 0.8748 - loss: 0.3839 - val_accuracy: 0.8760 - val_loss: 0.3825 - learning_rate: 0.0010\n",
      "Epoch 6/15\n",
      "\u001b[1m7244/7244\u001b[0m \u001b[32m━━━━━━━━━━━━━━━━━━━━\u001b[0m\u001b[37m\u001b[0m \u001b[1m57s\u001b[0m 8ms/step - accuracy: 0.8762 - loss: 0.3805 - val_accuracy: 0.8754 - val_loss: 0.3815 - learning_rate: 0.0010\n",
      "Epoch 7/15\n",
      "\u001b[1m7244/7244\u001b[0m \u001b[32m━━━━━━━━━━━━━━━━━━━━\u001b[0m\u001b[37m\u001b[0m \u001b[1m80s\u001b[0m 8ms/step - accuracy: 0.8760 - loss: 0.3803 - val_accuracy: 0.8777 - val_loss: 0.3790 - learning_rate: 0.0010\n",
      "Epoch 8/15\n",
      "\u001b[1m7244/7244\u001b[0m \u001b[32m━━━━━━━━━━━━━━━━━━━━\u001b[0m\u001b[37m\u001b[0m \u001b[1m44s\u001b[0m 6ms/step - accuracy: 0.8769 - loss: 0.3779 - val_accuracy: 0.8762 - val_loss: 0.3795 - learning_rate: 0.0010\n",
      "Epoch 9/15\n",
      "\u001b[1m7244/7244\u001b[0m \u001b[32m━━━━━━━━━━━━━━━━━━━━\u001b[0m\u001b[37m\u001b[0m \u001b[1m31s\u001b[0m 4ms/step - accuracy: 0.8772 - loss: 0.3770 - val_accuracy: 0.8771 - val_loss: 0.3787 - learning_rate: 0.0010\n",
      "Epoch 10/15\n",
      "\u001b[1m7244/7244\u001b[0m \u001b[32m━━━━━━━━━━━━━━━━━━━━\u001b[0m\u001b[37m\u001b[0m \u001b[1m30s\u001b[0m 4ms/step - accuracy: 0.8772 - loss: 0.3756 - val_accuracy: 0.8771 - val_loss: 0.3775 - learning_rate: 0.0010\n",
      "Epoch 11/15\n",
      "\u001b[1m7244/7244\u001b[0m \u001b[32m━━━━━━━━━━━━━━━━━━━━\u001b[0m\u001b[37m\u001b[0m \u001b[1m56s\u001b[0m 8ms/step - accuracy: 0.8771 - loss: 0.3750 - val_accuracy: 0.8777 - val_loss: 0.3747 - learning_rate: 0.0010\n",
      "Epoch 12/15\n",
      "\u001b[1m7244/7244\u001b[0m \u001b[32m━━━━━━━━━━━━━━━━━━━━\u001b[0m\u001b[37m\u001b[0m \u001b[1m56s\u001b[0m 8ms/step - accuracy: 0.8781 - loss: 0.3725 - val_accuracy: 0.8776 - val_loss: 0.3745 - learning_rate: 0.0010\n",
      "Epoch 13/15\n",
      "\u001b[1m7244/7244\u001b[0m \u001b[32m━━━━━━━━━━━━━━━━━━━━\u001b[0m\u001b[37m\u001b[0m \u001b[1m26s\u001b[0m 4ms/step - accuracy: 0.8777 - loss: 0.3718 - val_accuracy: 0.8774 - val_loss: 0.3722 - learning_rate: 0.0010\n",
      "Epoch 14/15\n",
      "\u001b[1m7244/7244\u001b[0m \u001b[32m━━━━━━━━━━━━━━━━━━━━\u001b[0m\u001b[37m\u001b[0m \u001b[1m25s\u001b[0m 3ms/step - accuracy: 0.8784 - loss: 0.3703 - val_accuracy: 0.8800 - val_loss: 0.3700 - learning_rate: 0.0010\n",
      "Epoch 15/15\n",
      "\u001b[1m7244/7244\u001b[0m \u001b[32m━━━━━━━━━━━━━━━━━━━━\u001b[0m\u001b[37m\u001b[0m \u001b[1m28s\u001b[0m 4ms/step - accuracy: 0.8795 - loss: 0.3703 - val_accuracy: 0.8835 - val_loss: 0.3698 - learning_rate: 0.0010\n"
     ]
    },
    {
     "name": "stderr",
     "output_type": "stream",
     "text": [
      "WARNING:absl:You are saving your model as an HDF5 file via `model.save()` or `keras.saving.save_model(model)`. This file format is considered legacy. We recommend using instead the native Keras format, e.g. `model.save('my_model.keras')` or `keras.saving.save_model(model, 'my_model.keras')`. \n"
     ]
    }
   ],
   "source": [
    "import tensorflow as tf\n",
    "opt = Adam(learning_rate=0.001)\n",
    "model.compile(optimizer=opt, loss= tf.keras.metrics.categorical_crossentropy,\n",
    "                  metrics=['accuracy'])\n",
    "\n",
    "\n",
    "from keras.callbacks import ModelCheckpoint, EarlyStopping, ReduceLROnPlateau\n",
    "\n",
    "lr_reduce = ReduceLROnPlateau(monitor='val_loss', factor=0.5, patience=5, mode=\"min\", verbose=1, min_lr=0)\n",
    "#plotlosses = PlotLossesKeras()\n",
    "call_backs = [lr_reduce]\n",
    "EPOCHS = 15\n",
    "BATCH_SIZE = 256\n",
    "\n",
    "history = model.fit(X_train, y_train,\n",
    "                    validation_data=(X_test, y_test),\n",
    "                    validation_split=0.1,\n",
    "                    epochs=EPOCHS,\n",
    "                    batch_size=BATCH_SIZE,\n",
    "                    callbacks=call_backs,\n",
    "                    #class_weight=class_weights,\n",
    "                    verbose=1)\n",
    "# model.save('CNN_3_layers.h5')\n",
    "model.save('CNN_3_layers_pretrain.h5')"
   ]
  },
  {
   "cell_type": "markdown",
   "metadata": {
    "id": "Wbv3ZABKZXC8"
   },
   "source": [
    "**Have 5 layers**"
   ]
  },
  {
   "cell_type": "code",
   "execution_count": 9,
   "metadata": {},
   "outputs": [],
   "source": [
    "# Convert X_train and X_test dimension to 3-dimensional (row, column, channel)\n",
    "X_train_CNN_5_layers = X_train.reshape(X_train.shape[0], X_train.shape[1], 1)\n",
    "X_test_CNN_5_layers = X_test.reshape(X_test.shape[0], X_test.shape[1], 1)"
   ]
  },
  {
   "cell_type": "code",
   "execution_count": 56,
   "metadata": {},
   "outputs": [
    {
     "name": "stdout",
     "output_type": "stream",
     "text": [
      "(1854243, 96, 1)\n",
      "(463561, 96, 1)\n"
     ]
    }
   ],
   "source": [
    "print(X_train_CNN_5_layers.shape)\n",
    "print(X_test_CNN_5_layers.shape)"
   ]
  },
  {
   "cell_type": "code",
   "execution_count": 57,
   "metadata": {
    "colab": {
     "base_uri": "https://localhost:8080/",
     "height": 298
    },
    "executionInfo": {
     "elapsed": 465,
     "status": "ok",
     "timestamp": 1730214101502,
     "user": {
      "displayName": "Thiện Hồ Ngọc",
      "userId": "11639870260678535712"
     },
     "user_tz": -420
    },
    "id": "su9fmHTcZWX1",
    "outputId": "80dc8e18-b1e0-4e6c-febd-9a163fa86814"
   },
   "outputs": [
    {
     "data": {
      "text/html": [
       "<pre style=\"white-space:pre;overflow-x:auto;line-height:normal;font-family:Menlo,'DejaVu Sans Mono',consolas,'Courier New',monospace\"><span style=\"font-weight: bold\">Model: \"sequential_1\"</span>\n",
       "</pre>\n"
      ],
      "text/plain": [
       "\u001b[1mModel: \"sequential_1\"\u001b[0m\n"
      ]
     },
     "metadata": {},
     "output_type": "display_data"
    },
    {
     "data": {
      "text/html": [
       "<pre style=\"white-space:pre;overflow-x:auto;line-height:normal;font-family:Menlo,'DejaVu Sans Mono',consolas,'Courier New',monospace\">┏━━━━━━━━━━━━━━━━━━━━━━━━━━━━━━━━━┳━━━━━━━━━━━━━━━━━━━━━━━━┳━━━━━━━━━━━━━━━┓\n",
       "┃<span style=\"font-weight: bold\"> Layer (type)                    </span>┃<span style=\"font-weight: bold\"> Output Shape           </span>┃<span style=\"font-weight: bold\">       Param # </span>┃\n",
       "┡━━━━━━━━━━━━━━━━━━━━━━━━━━━━━━━━━╇━━━━━━━━━━━━━━━━━━━━━━━━╇━━━━━━━━━━━━━━━┩\n",
       "│ conv1d_1 (<span style=\"color: #0087ff; text-decoration-color: #0087ff\">Conv1D</span>)               │ (<span style=\"color: #00d7ff; text-decoration-color: #00d7ff\">None</span>, <span style=\"color: #00af00; text-decoration-color: #00af00\">94</span>, <span style=\"color: #00af00; text-decoration-color: #00af00\">32</span>)         │           <span style=\"color: #00af00; text-decoration-color: #00af00\">128</span> │\n",
       "├─────────────────────────────────┼────────────────────────┼───────────────┤\n",
       "│ max_pooling1d_1 (<span style=\"color: #0087ff; text-decoration-color: #0087ff\">MaxPooling1D</span>)  │ (<span style=\"color: #00d7ff; text-decoration-color: #00d7ff\">None</span>, <span style=\"color: #00af00; text-decoration-color: #00af00\">47</span>, <span style=\"color: #00af00; text-decoration-color: #00af00\">32</span>)         │             <span style=\"color: #00af00; text-decoration-color: #00af00\">0</span> │\n",
       "├─────────────────────────────────┼────────────────────────┼───────────────┤\n",
       "│ conv1d_2 (<span style=\"color: #0087ff; text-decoration-color: #0087ff\">Conv1D</span>)               │ (<span style=\"color: #00d7ff; text-decoration-color: #00d7ff\">None</span>, <span style=\"color: #00af00; text-decoration-color: #00af00\">45</span>, <span style=\"color: #00af00; text-decoration-color: #00af00\">64</span>)         │         <span style=\"color: #00af00; text-decoration-color: #00af00\">6,208</span> │\n",
       "├─────────────────────────────────┼────────────────────────┼───────────────┤\n",
       "│ max_pooling1d_2 (<span style=\"color: #0087ff; text-decoration-color: #0087ff\">MaxPooling1D</span>)  │ (<span style=\"color: #00d7ff; text-decoration-color: #00d7ff\">None</span>, <span style=\"color: #00af00; text-decoration-color: #00af00\">22</span>, <span style=\"color: #00af00; text-decoration-color: #00af00\">64</span>)         │             <span style=\"color: #00af00; text-decoration-color: #00af00\">0</span> │\n",
       "├─────────────────────────────────┼────────────────────────┼───────────────┤\n",
       "│ flatten_1 (<span style=\"color: #0087ff; text-decoration-color: #0087ff\">Flatten</span>)             │ (<span style=\"color: #00d7ff; text-decoration-color: #00d7ff\">None</span>, <span style=\"color: #00af00; text-decoration-color: #00af00\">1408</span>)           │             <span style=\"color: #00af00; text-decoration-color: #00af00\">0</span> │\n",
       "├─────────────────────────────────┼────────────────────────┼───────────────┤\n",
       "│ dropout (<span style=\"color: #0087ff; text-decoration-color: #0087ff\">Dropout</span>)               │ (<span style=\"color: #00d7ff; text-decoration-color: #00d7ff\">None</span>, <span style=\"color: #00af00; text-decoration-color: #00af00\">1408</span>)           │             <span style=\"color: #00af00; text-decoration-color: #00af00\">0</span> │\n",
       "├─────────────────────────────────┼────────────────────────┼───────────────┤\n",
       "│ dense_1 (<span style=\"color: #0087ff; text-decoration-color: #0087ff\">Dense</span>)                 │ (<span style=\"color: #00d7ff; text-decoration-color: #00d7ff\">None</span>, <span style=\"color: #00af00; text-decoration-color: #00af00\">15</span>)             │        <span style=\"color: #00af00; text-decoration-color: #00af00\">21,135</span> │\n",
       "└─────────────────────────────────┴────────────────────────┴───────────────┘\n",
       "</pre>\n"
      ],
      "text/plain": [
       "┏━━━━━━━━━━━━━━━━━━━━━━━━━━━━━━━━━┳━━━━━━━━━━━━━━━━━━━━━━━━┳━━━━━━━━━━━━━━━┓\n",
       "┃\u001b[1m \u001b[0m\u001b[1mLayer (type)                   \u001b[0m\u001b[1m \u001b[0m┃\u001b[1m \u001b[0m\u001b[1mOutput Shape          \u001b[0m\u001b[1m \u001b[0m┃\u001b[1m \u001b[0m\u001b[1m      Param #\u001b[0m\u001b[1m \u001b[0m┃\n",
       "┡━━━━━━━━━━━━━━━━━━━━━━━━━━━━━━━━━╇━━━━━━━━━━━━━━━━━━━━━━━━╇━━━━━━━━━━━━━━━┩\n",
       "│ conv1d_1 (\u001b[38;5;33mConv1D\u001b[0m)               │ (\u001b[38;5;45mNone\u001b[0m, \u001b[38;5;34m94\u001b[0m, \u001b[38;5;34m32\u001b[0m)         │           \u001b[38;5;34m128\u001b[0m │\n",
       "├─────────────────────────────────┼────────────────────────┼───────────────┤\n",
       "│ max_pooling1d_1 (\u001b[38;5;33mMaxPooling1D\u001b[0m)  │ (\u001b[38;5;45mNone\u001b[0m, \u001b[38;5;34m47\u001b[0m, \u001b[38;5;34m32\u001b[0m)         │             \u001b[38;5;34m0\u001b[0m │\n",
       "├─────────────────────────────────┼────────────────────────┼───────────────┤\n",
       "│ conv1d_2 (\u001b[38;5;33mConv1D\u001b[0m)               │ (\u001b[38;5;45mNone\u001b[0m, \u001b[38;5;34m45\u001b[0m, \u001b[38;5;34m64\u001b[0m)         │         \u001b[38;5;34m6,208\u001b[0m │\n",
       "├─────────────────────────────────┼────────────────────────┼───────────────┤\n",
       "│ max_pooling1d_2 (\u001b[38;5;33mMaxPooling1D\u001b[0m)  │ (\u001b[38;5;45mNone\u001b[0m, \u001b[38;5;34m22\u001b[0m, \u001b[38;5;34m64\u001b[0m)         │             \u001b[38;5;34m0\u001b[0m │\n",
       "├─────────────────────────────────┼────────────────────────┼───────────────┤\n",
       "│ flatten_1 (\u001b[38;5;33mFlatten\u001b[0m)             │ (\u001b[38;5;45mNone\u001b[0m, \u001b[38;5;34m1408\u001b[0m)           │             \u001b[38;5;34m0\u001b[0m │\n",
       "├─────────────────────────────────┼────────────────────────┼───────────────┤\n",
       "│ dropout (\u001b[38;5;33mDropout\u001b[0m)               │ (\u001b[38;5;45mNone\u001b[0m, \u001b[38;5;34m1408\u001b[0m)           │             \u001b[38;5;34m0\u001b[0m │\n",
       "├─────────────────────────────────┼────────────────────────┼───────────────┤\n",
       "│ dense_1 (\u001b[38;5;33mDense\u001b[0m)                 │ (\u001b[38;5;45mNone\u001b[0m, \u001b[38;5;34m15\u001b[0m)             │        \u001b[38;5;34m21,135\u001b[0m │\n",
       "└─────────────────────────────────┴────────────────────────┴───────────────┘\n"
      ]
     },
     "metadata": {},
     "output_type": "display_data"
    },
    {
     "data": {
      "text/html": [
       "<pre style=\"white-space:pre;overflow-x:auto;line-height:normal;font-family:Menlo,'DejaVu Sans Mono',consolas,'Courier New',monospace\"><span style=\"font-weight: bold\"> Total params: </span><span style=\"color: #00af00; text-decoration-color: #00af00\">27,471</span> (107.31 KB)\n",
       "</pre>\n"
      ],
      "text/plain": [
       "\u001b[1m Total params: \u001b[0m\u001b[38;5;34m27,471\u001b[0m (107.31 KB)\n"
      ]
     },
     "metadata": {},
     "output_type": "display_data"
    },
    {
     "data": {
      "text/html": [
       "<pre style=\"white-space:pre;overflow-x:auto;line-height:normal;font-family:Menlo,'DejaVu Sans Mono',consolas,'Courier New',monospace\"><span style=\"font-weight: bold\"> Trainable params: </span><span style=\"color: #00af00; text-decoration-color: #00af00\">27,471</span> (107.31 KB)\n",
       "</pre>\n"
      ],
      "text/plain": [
       "\u001b[1m Trainable params: \u001b[0m\u001b[38;5;34m27,471\u001b[0m (107.31 KB)\n"
      ]
     },
     "metadata": {},
     "output_type": "display_data"
    },
    {
     "data": {
      "text/html": [
       "<pre style=\"white-space:pre;overflow-x:auto;line-height:normal;font-family:Menlo,'DejaVu Sans Mono',consolas,'Courier New',monospace\"><span style=\"font-weight: bold\"> Non-trainable params: </span><span style=\"color: #00af00; text-decoration-color: #00af00\">0</span> (0.00 B)\n",
       "</pre>\n"
      ],
      "text/plain": [
       "\u001b[1m Non-trainable params: \u001b[0m\u001b[38;5;34m0\u001b[0m (0.00 B)\n"
      ]
     },
     "metadata": {},
     "output_type": "display_data"
    }
   ],
   "source": [
    "#CNN-based IDS model with 5 layers\n",
    "#https://www.researchgate.net/publication/341555600_CNID_Research_of_Network_Intrusion_Detection_Based_on_Convolutional_Neural_Network\n",
    "from tensorflow.keras.layers import Reshape\n",
    "from tensorflow.keras.layers import Conv1D, MaxPooling1D, Flatten, Dense, LSTM, Dropout\n",
    "\n",
    "model = Sequential()\n",
    "\n",
    "# Convolutional layers\n",
    "model.add(Conv1D(32, 3, activation='relu', input_shape=input_shape))\n",
    "model.add(MaxPooling1D(2))\n",
    "model.add(Conv1D(64, 3, activation='relu'))\n",
    "model.add(MaxPooling1D(2))\n",
    "\n",
    "model.add(Flatten())\n",
    "\n",
    "model.add(Dropout(0.2))\n",
    "model.add(Dense(num_classes, activation='softmax'))\n",
    "\n",
    "#Summary\n",
    "model.summary()"
   ]
  },
  {
   "cell_type": "code",
   "execution_count": 58,
   "metadata": {
    "colab": {
     "base_uri": "https://localhost:8080/"
    },
    "executionInfo": {
     "elapsed": 3624595,
     "status": "ok",
     "timestamp": 1730217735327,
     "user": {
      "displayName": "Thiện Hồ Ngọc",
      "userId": "11639870260678535712"
     },
     "user_tz": -420
    },
    "id": "B3AzflRPiRxB",
    "outputId": "bf282ec1-0730-4485-9613-1b819d6b45ac"
   },
   "outputs": [
    {
     "name": "stdout",
     "output_type": "stream",
     "text": [
      "Epoch 1/15\n",
      "\u001b[1m7244/7244\u001b[0m \u001b[32m━━━━━━━━━━━━━━━━━━━━\u001b[0m\u001b[37m\u001b[0m \u001b[1m48s\u001b[0m 6ms/step - accuracy: 0.8565 - loss: 0.4708 - val_accuracy: 0.8717 - val_loss: 0.3888 - learning_rate: 0.0010\n",
      "Epoch 2/15\n",
      "\u001b[1m7244/7244\u001b[0m \u001b[32m━━━━━━━━━━━━━━━━━━━━\u001b[0m\u001b[37m\u001b[0m \u001b[1m49s\u001b[0m 7ms/step - accuracy: 0.8726 - loss: 0.3903 - val_accuracy: 0.8753 - val_loss: 0.3812 - learning_rate: 0.0010\n",
      "Epoch 3/15\n",
      "\u001b[1m7244/7244\u001b[0m \u001b[32m━━━━━━━━━━━━━━━━━━━━\u001b[0m\u001b[37m\u001b[0m \u001b[1m49s\u001b[0m 7ms/step - accuracy: 0.8744 - loss: 0.3841 - val_accuracy: 0.8767 - val_loss: 0.3769 - learning_rate: 0.0010\n",
      "Epoch 4/15\n",
      "\u001b[1m7244/7244\u001b[0m \u001b[32m━━━━━━━━━━━━━━━━━━━━\u001b[0m\u001b[37m\u001b[0m \u001b[1m50s\u001b[0m 7ms/step - accuracy: 0.8762 - loss: 0.3779 - val_accuracy: 0.8777 - val_loss: 0.3708 - learning_rate: 0.0010\n",
      "Epoch 5/15\n",
      "\u001b[1m7244/7244\u001b[0m \u001b[32m━━━━━━━━━━━━━━━━━━━━\u001b[0m\u001b[37m\u001b[0m \u001b[1m50s\u001b[0m 7ms/step - accuracy: 0.8782 - loss: 0.3729 - val_accuracy: 0.8802 - val_loss: 0.3656 - learning_rate: 0.0010\n",
      "Epoch 6/15\n",
      "\u001b[1m7244/7244\u001b[0m \u001b[32m━━━━━━━━━━━━━━━━━━━━\u001b[0m\u001b[37m\u001b[0m \u001b[1m52s\u001b[0m 7ms/step - accuracy: 0.8802 - loss: 0.3674 - val_accuracy: 0.8845 - val_loss: 0.3612 - learning_rate: 0.0010\n",
      "Epoch 7/15\n",
      "\u001b[1m7244/7244\u001b[0m \u001b[32m━━━━━━━━━━━━━━━━━━━━\u001b[0m\u001b[37m\u001b[0m \u001b[1m51s\u001b[0m 7ms/step - accuracy: 0.8834 - loss: 0.3630 - val_accuracy: 0.8853 - val_loss: 0.3577 - learning_rate: 0.0010\n",
      "Epoch 8/15\n",
      "\u001b[1m7244/7244\u001b[0m \u001b[32m━━━━━━━━━━━━━━━━━━━━\u001b[0m\u001b[37m\u001b[0m \u001b[1m51s\u001b[0m 7ms/step - accuracy: 0.8836 - loss: 0.3619 - val_accuracy: 0.8862 - val_loss: 0.3549 - learning_rate: 0.0010\n",
      "Epoch 9/15\n",
      "\u001b[1m7244/7244\u001b[0m \u001b[32m━━━━━━━━━━━━━━━━━━━━\u001b[0m\u001b[37m\u001b[0m \u001b[1m51s\u001b[0m 7ms/step - accuracy: 0.8842 - loss: 0.3603 - val_accuracy: 0.8866 - val_loss: 0.3544 - learning_rate: 0.0010\n",
      "Epoch 10/15\n",
      "\u001b[1m7244/7244\u001b[0m \u001b[32m━━━━━━━━━━━━━━━━━━━━\u001b[0m\u001b[37m\u001b[0m \u001b[1m51s\u001b[0m 7ms/step - accuracy: 0.8848 - loss: 0.3581 - val_accuracy: 0.8861 - val_loss: 0.3527 - learning_rate: 0.0010\n",
      "Epoch 11/15\n",
      "\u001b[1m7244/7244\u001b[0m \u001b[32m━━━━━━━━━━━━━━━━━━━━\u001b[0m\u001b[37m\u001b[0m \u001b[1m51s\u001b[0m 7ms/step - accuracy: 0.8850 - loss: 0.3574 - val_accuracy: 0.8866 - val_loss: 0.3534 - learning_rate: 0.0010\n",
      "Epoch 12/15\n",
      "\u001b[1m7244/7244\u001b[0m \u001b[32m━━━━━━━━━━━━━━━━━━━━\u001b[0m\u001b[37m\u001b[0m \u001b[1m51s\u001b[0m 7ms/step - accuracy: 0.8856 - loss: 0.3551 - val_accuracy: 0.8855 - val_loss: 0.3514 - learning_rate: 0.0010\n",
      "Epoch 13/15\n",
      "\u001b[1m7244/7244\u001b[0m \u001b[32m━━━━━━━━━━━━━━━━━━━━\u001b[0m\u001b[37m\u001b[0m \u001b[1m76s\u001b[0m 11ms/step - accuracy: 0.8856 - loss: 0.3555 - val_accuracy: 0.8874 - val_loss: 0.3504 - learning_rate: 0.0010\n",
      "Epoch 14/15\n",
      "\u001b[1m7244/7244\u001b[0m \u001b[32m━━━━━━━━━━━━━━━━━━━━\u001b[0m\u001b[37m\u001b[0m \u001b[1m61s\u001b[0m 8ms/step - accuracy: 0.8858 - loss: 0.3534 - val_accuracy: 0.8878 - val_loss: 0.3489 - learning_rate: 0.0010\n",
      "Epoch 15/15\n",
      "\u001b[1m7244/7244\u001b[0m \u001b[32m━━━━━━━━━━━━━━━━━━━━\u001b[0m\u001b[37m\u001b[0m \u001b[1m51s\u001b[0m 7ms/step - accuracy: 0.8860 - loss: 0.3537 - val_accuracy: 0.8877 - val_loss: 0.3488 - learning_rate: 0.0010\n"
     ]
    },
    {
     "name": "stderr",
     "output_type": "stream",
     "text": [
      "WARNING:absl:You are saving your model as an HDF5 file via `model.save()` or `keras.saving.save_model(model)`. This file format is considered legacy. We recommend using instead the native Keras format, e.g. `model.save('my_model.keras')` or `keras.saving.save_model(model, 'my_model.keras')`. \n"
     ]
    }
   ],
   "source": [
    "import tensorflow as tf\n",
    "opt = Adam(learning_rate=0.001)\n",
    "model.compile(optimizer=opt, loss= tf.keras.metrics.categorical_crossentropy,\n",
    "                  metrics=['accuracy'])\n",
    "\n",
    "\n",
    "from keras.callbacks import ModelCheckpoint, EarlyStopping, ReduceLROnPlateau\n",
    "\n",
    "lr_reduce = ReduceLROnPlateau(monitor='val_loss', factor=0.5, patience=5, mode=\"min\", verbose=1, min_lr=0)\n",
    "#plotlosses = PlotLossesKeras()\n",
    "call_backs = [lr_reduce]\n",
    "EPOCHS = 15\n",
    "BATCH_SIZE = 256\n",
    "\n",
    "history = model.fit(X_train_CNN_5_layers, y_train,\n",
    "                    validation_data=(X_test_CNN_5_layers, y_test),\n",
    "                    validation_split=0.1,\n",
    "                    epochs=EPOCHS,\n",
    "                    batch_size=BATCH_SIZE,\n",
    "                    callbacks=call_backs,\n",
    "                    #class_weight=class_weights,\n",
    "                    verbose=1)\n",
    "# model.save('CNN_5_layers.h5')\n",
    "model.save('CNN_5_layers_pretrain.h5')"
   ]
  },
  {
   "cell_type": "markdown",
   "metadata": {
    "id": "VvtuU-HtV331"
   },
   "source": [
    "**Have 7 layers**"
   ]
  },
  {
   "cell_type": "code",
   "execution_count": 43,
   "metadata": {},
   "outputs": [
    {
     "data": {
      "text/plain": [
       "(1527736, 96)"
      ]
     },
     "execution_count": 43,
     "metadata": {},
     "output_type": "execute_result"
    }
   ],
   "source": [
    "X_train.shape"
   ]
  },
  {
   "cell_type": "code",
   "execution_count": 8,
   "metadata": {},
   "outputs": [],
   "source": [
    "X_train_CNN_7_layers = np.zeros((X_train.shape[0], 32 * 32))\n",
    "X_train_CNN_7_layers[:, :96] = X_train  # Fill in the first 96 elements\n",
    "\n",
    "# Reshape to (390500, 32, 32, 1) for the CNN\n",
    "X_train_CNN_7_layers = X_train_CNN_7_layers.reshape(-1, 32, 32, 1)\n",
    "\n",
    "X_test_CNN_7_layers = np.zeros((X_test.shape[0], 32 * 32))\n",
    "X_test_CNN_7_layers[:, :96] = X_test  # Fill in the first 97 elements\n",
    "\n",
    "# Reshape to (390500, 32, 32, 1) for the CNN\n",
    "X_test_CNN_7_layers = X_test_CNN_7_layers.reshape(-1, 32, 32, 1)"
   ]
  },
  {
   "cell_type": "code",
   "execution_count": 7,
   "metadata": {
    "colab": {
     "base_uri": "https://localhost:8080/",
     "height": 364
    },
    "executionInfo": {
     "elapsed": 455,
     "status": "ok",
     "timestamp": 1730206848738,
     "user": {
      "displayName": "Thiện Hồ Ngọc",
      "userId": "11639870260678535712"
     },
     "user_tz": -420
    },
    "id": "C_uOl1nKI4a1",
    "outputId": "348476f1-d5c6-4003-a914-b85482268875"
   },
   "outputs": [
    {
     "name": "stderr",
     "output_type": "stream",
     "text": [
      "d:\\IDSGAN\\IDSGAN-main\\IDSGAN\\myenv\\Lib\\site-packages\\keras\\src\\layers\\convolutional\\base_conv.py:107: UserWarning: Do not pass an `input_shape`/`input_dim` argument to a layer. When using Sequential models, prefer using an `Input(shape)` object as the first layer in the model instead.\n",
      "  super().__init__(activity_regularizer=activity_regularizer, **kwargs)\n"
     ]
    },
    {
     "data": {
      "text/html": [
       "<pre style=\"white-space:pre;overflow-x:auto;line-height:normal;font-family:Menlo,'DejaVu Sans Mono',consolas,'Courier New',monospace\"><span style=\"font-weight: bold\">Model: \"sequential\"</span>\n",
       "</pre>\n"
      ],
      "text/plain": [
       "\u001b[1mModel: \"sequential\"\u001b[0m\n"
      ]
     },
     "metadata": {},
     "output_type": "display_data"
    },
    {
     "data": {
      "text/html": [
       "<pre style=\"white-space:pre;overflow-x:auto;line-height:normal;font-family:Menlo,'DejaVu Sans Mono',consolas,'Courier New',monospace\">┏━━━━━━━━━━━━━━━━━━━━━━━━━━━━━━━━━┳━━━━━━━━━━━━━━━━━━━━━━━━┳━━━━━━━━━━━━━━━┓\n",
       "┃<span style=\"font-weight: bold\"> Layer (type)                    </span>┃<span style=\"font-weight: bold\"> Output Shape           </span>┃<span style=\"font-weight: bold\">       Param # </span>┃\n",
       "┡━━━━━━━━━━━━━━━━━━━━━━━━━━━━━━━━━╇━━━━━━━━━━━━━━━━━━━━━━━━╇━━━━━━━━━━━━━━━┩\n",
       "│ conv2d (<span style=\"color: #0087ff; text-decoration-color: #0087ff\">Conv2D</span>)                 │ (<span style=\"color: #00d7ff; text-decoration-color: #00d7ff\">None</span>, <span style=\"color: #00af00; text-decoration-color: #00af00\">28</span>, <span style=\"color: #00af00; text-decoration-color: #00af00\">28</span>, <span style=\"color: #00af00; text-decoration-color: #00af00\">6</span>)      │           <span style=\"color: #00af00; text-decoration-color: #00af00\">156</span> │\n",
       "├─────────────────────────────────┼────────────────────────┼───────────────┤\n",
       "│ average_pooling2d               │ (<span style=\"color: #00d7ff; text-decoration-color: #00d7ff\">None</span>, <span style=\"color: #00af00; text-decoration-color: #00af00\">14</span>, <span style=\"color: #00af00; text-decoration-color: #00af00\">14</span>, <span style=\"color: #00af00; text-decoration-color: #00af00\">6</span>)      │             <span style=\"color: #00af00; text-decoration-color: #00af00\">0</span> │\n",
       "│ (<span style=\"color: #0087ff; text-decoration-color: #0087ff\">AveragePooling2D</span>)              │                        │               │\n",
       "├─────────────────────────────────┼────────────────────────┼───────────────┤\n",
       "│ conv2d_1 (<span style=\"color: #0087ff; text-decoration-color: #0087ff\">Conv2D</span>)               │ (<span style=\"color: #00d7ff; text-decoration-color: #00d7ff\">None</span>, <span style=\"color: #00af00; text-decoration-color: #00af00\">10</span>, <span style=\"color: #00af00; text-decoration-color: #00af00\">10</span>, <span style=\"color: #00af00; text-decoration-color: #00af00\">16</span>)     │         <span style=\"color: #00af00; text-decoration-color: #00af00\">2,416</span> │\n",
       "├─────────────────────────────────┼────────────────────────┼───────────────┤\n",
       "│ average_pooling2d_1             │ (<span style=\"color: #00d7ff; text-decoration-color: #00d7ff\">None</span>, <span style=\"color: #00af00; text-decoration-color: #00af00\">5</span>, <span style=\"color: #00af00; text-decoration-color: #00af00\">5</span>, <span style=\"color: #00af00; text-decoration-color: #00af00\">16</span>)       │             <span style=\"color: #00af00; text-decoration-color: #00af00\">0</span> │\n",
       "│ (<span style=\"color: #0087ff; text-decoration-color: #0087ff\">AveragePooling2D</span>)              │                        │               │\n",
       "├─────────────────────────────────┼────────────────────────┼───────────────┤\n",
       "│ conv2d_2 (<span style=\"color: #0087ff; text-decoration-color: #0087ff\">Conv2D</span>)               │ (<span style=\"color: #00d7ff; text-decoration-color: #00d7ff\">None</span>, <span style=\"color: #00af00; text-decoration-color: #00af00\">1</span>, <span style=\"color: #00af00; text-decoration-color: #00af00\">1</span>, <span style=\"color: #00af00; text-decoration-color: #00af00\">120</span>)      │        <span style=\"color: #00af00; text-decoration-color: #00af00\">48,120</span> │\n",
       "├─────────────────────────────────┼────────────────────────┼───────────────┤\n",
       "│ flatten (<span style=\"color: #0087ff; text-decoration-color: #0087ff\">Flatten</span>)               │ (<span style=\"color: #00d7ff; text-decoration-color: #00d7ff\">None</span>, <span style=\"color: #00af00; text-decoration-color: #00af00\">120</span>)            │             <span style=\"color: #00af00; text-decoration-color: #00af00\">0</span> │\n",
       "├─────────────────────────────────┼────────────────────────┼───────────────┤\n",
       "│ dense (<span style=\"color: #0087ff; text-decoration-color: #0087ff\">Dense</span>)                   │ (<span style=\"color: #00d7ff; text-decoration-color: #00d7ff\">None</span>, <span style=\"color: #00af00; text-decoration-color: #00af00\">84</span>)             │        <span style=\"color: #00af00; text-decoration-color: #00af00\">10,164</span> │\n",
       "├─────────────────────────────────┼────────────────────────┼───────────────┤\n",
       "│ dense_1 (<span style=\"color: #0087ff; text-decoration-color: #0087ff\">Dense</span>)                 │ (<span style=\"color: #00d7ff; text-decoration-color: #00d7ff\">None</span>, <span style=\"color: #00af00; text-decoration-color: #00af00\">15</span>)             │         <span style=\"color: #00af00; text-decoration-color: #00af00\">1,275</span> │\n",
       "└─────────────────────────────────┴────────────────────────┴───────────────┘\n",
       "</pre>\n"
      ],
      "text/plain": [
       "┏━━━━━━━━━━━━━━━━━━━━━━━━━━━━━━━━━┳━━━━━━━━━━━━━━━━━━━━━━━━┳━━━━━━━━━━━━━━━┓\n",
       "┃\u001b[1m \u001b[0m\u001b[1mLayer (type)                   \u001b[0m\u001b[1m \u001b[0m┃\u001b[1m \u001b[0m\u001b[1mOutput Shape          \u001b[0m\u001b[1m \u001b[0m┃\u001b[1m \u001b[0m\u001b[1m      Param #\u001b[0m\u001b[1m \u001b[0m┃\n",
       "┡━━━━━━━━━━━━━━━━━━━━━━━━━━━━━━━━━╇━━━━━━━━━━━━━━━━━━━━━━━━╇━━━━━━━━━━━━━━━┩\n",
       "│ conv2d (\u001b[38;5;33mConv2D\u001b[0m)                 │ (\u001b[38;5;45mNone\u001b[0m, \u001b[38;5;34m28\u001b[0m, \u001b[38;5;34m28\u001b[0m, \u001b[38;5;34m6\u001b[0m)      │           \u001b[38;5;34m156\u001b[0m │\n",
       "├─────────────────────────────────┼────────────────────────┼───────────────┤\n",
       "│ average_pooling2d               │ (\u001b[38;5;45mNone\u001b[0m, \u001b[38;5;34m14\u001b[0m, \u001b[38;5;34m14\u001b[0m, \u001b[38;5;34m6\u001b[0m)      │             \u001b[38;5;34m0\u001b[0m │\n",
       "│ (\u001b[38;5;33mAveragePooling2D\u001b[0m)              │                        │               │\n",
       "├─────────────────────────────────┼────────────────────────┼───────────────┤\n",
       "│ conv2d_1 (\u001b[38;5;33mConv2D\u001b[0m)               │ (\u001b[38;5;45mNone\u001b[0m, \u001b[38;5;34m10\u001b[0m, \u001b[38;5;34m10\u001b[0m, \u001b[38;5;34m16\u001b[0m)     │         \u001b[38;5;34m2,416\u001b[0m │\n",
       "├─────────────────────────────────┼────────────────────────┼───────────────┤\n",
       "│ average_pooling2d_1             │ (\u001b[38;5;45mNone\u001b[0m, \u001b[38;5;34m5\u001b[0m, \u001b[38;5;34m5\u001b[0m, \u001b[38;5;34m16\u001b[0m)       │             \u001b[38;5;34m0\u001b[0m │\n",
       "│ (\u001b[38;5;33mAveragePooling2D\u001b[0m)              │                        │               │\n",
       "├─────────────────────────────────┼────────────────────────┼───────────────┤\n",
       "│ conv2d_2 (\u001b[38;5;33mConv2D\u001b[0m)               │ (\u001b[38;5;45mNone\u001b[0m, \u001b[38;5;34m1\u001b[0m, \u001b[38;5;34m1\u001b[0m, \u001b[38;5;34m120\u001b[0m)      │        \u001b[38;5;34m48,120\u001b[0m │\n",
       "├─────────────────────────────────┼────────────────────────┼───────────────┤\n",
       "│ flatten (\u001b[38;5;33mFlatten\u001b[0m)               │ (\u001b[38;5;45mNone\u001b[0m, \u001b[38;5;34m120\u001b[0m)            │             \u001b[38;5;34m0\u001b[0m │\n",
       "├─────────────────────────────────┼────────────────────────┼───────────────┤\n",
       "│ dense (\u001b[38;5;33mDense\u001b[0m)                   │ (\u001b[38;5;45mNone\u001b[0m, \u001b[38;5;34m84\u001b[0m)             │        \u001b[38;5;34m10,164\u001b[0m │\n",
       "├─────────────────────────────────┼────────────────────────┼───────────────┤\n",
       "│ dense_1 (\u001b[38;5;33mDense\u001b[0m)                 │ (\u001b[38;5;45mNone\u001b[0m, \u001b[38;5;34m15\u001b[0m)             │         \u001b[38;5;34m1,275\u001b[0m │\n",
       "└─────────────────────────────────┴────────────────────────┴───────────────┘\n"
      ]
     },
     "metadata": {},
     "output_type": "display_data"
    },
    {
     "data": {
      "text/html": [
       "<pre style=\"white-space:pre;overflow-x:auto;line-height:normal;font-family:Menlo,'DejaVu Sans Mono',consolas,'Courier New',monospace\"><span style=\"font-weight: bold\"> Total params: </span><span style=\"color: #00af00; text-decoration-color: #00af00\">62,131</span> (242.70 KB)\n",
       "</pre>\n"
      ],
      "text/plain": [
       "\u001b[1m Total params: \u001b[0m\u001b[38;5;34m62,131\u001b[0m (242.70 KB)\n"
      ]
     },
     "metadata": {},
     "output_type": "display_data"
    },
    {
     "data": {
      "text/html": [
       "<pre style=\"white-space:pre;overflow-x:auto;line-height:normal;font-family:Menlo,'DejaVu Sans Mono',consolas,'Courier New',monospace\"><span style=\"font-weight: bold\"> Trainable params: </span><span style=\"color: #00af00; text-decoration-color: #00af00\">62,131</span> (242.70 KB)\n",
       "</pre>\n"
      ],
      "text/plain": [
       "\u001b[1m Trainable params: \u001b[0m\u001b[38;5;34m62,131\u001b[0m (242.70 KB)\n"
      ]
     },
     "metadata": {},
     "output_type": "display_data"
    },
    {
     "data": {
      "text/html": [
       "<pre style=\"white-space:pre;overflow-x:auto;line-height:normal;font-family:Menlo,'DejaVu Sans Mono',consolas,'Courier New',monospace\"><span style=\"font-weight: bold\"> Non-trainable params: </span><span style=\"color: #00af00; text-decoration-color: #00af00\">0</span> (0.00 B)\n",
       "</pre>\n"
      ],
      "text/plain": [
       "\u001b[1m Non-trainable params: \u001b[0m\u001b[38;5;34m0\u001b[0m (0.00 B)\n"
      ]
     },
     "metadata": {},
     "output_type": "display_data"
    }
   ],
   "source": [
    "#CNN-based IDS model with 7 layers\n",
    "#An Intrusion Detection System Based on Convolutional Neural Network\n",
    "# from tensorflow.keras.layers import Reshape\n",
    "# from tensorflow.keras.layers import Conv1D, MaxPooling1D, Flatten, Dense, LSTM\n",
    "\n",
    "# model = Sequential()\n",
    "\n",
    "# # Convolutional layers\n",
    "# model.add(Conv1D(32, 3, activation='relu', input_shape=input_shape))\n",
    "# model.add(MaxPooling1D(2))\n",
    "# model.add(Conv1D(64, 3, activation='relu'))\n",
    "# model.add(MaxPooling1D(2))\n",
    "# # model.add(Conv1D(128, 3, activation='relu'))\n",
    "# # model.add(MaxPooling1D(2))\n",
    "\n",
    "# # Flatten output from Convolutional layers\n",
    "# model.add(Flatten())\n",
    "\n",
    "\n",
    "# # Dense layers for classification\n",
    "# model.add(Dense(64, activation='relu'))\n",
    "# model.add(Dense(num_classes, activation='softmax'))\n",
    "\n",
    "# model.summary()\n",
    "from tensorflow.keras.models import Sequential\n",
    "from tensorflow.keras.layers import Conv2D, AveragePooling2D, Flatten, Dense\n",
    "\n",
    "# Define the model\n",
    "model = Sequential()\n",
    "\n",
    "# C1: Convolutional Layer\n",
    "model.add(Conv2D(6, kernel_size=(5, 5), activation='relu', input_shape=(32, 32, 1)))\n",
    "\n",
    "# S2: Subsampling (Pooling) Layer\n",
    "model.add(AveragePooling2D(pool_size=(2, 2), strides=2))\n",
    "\n",
    "# C3: Convolutional Layer\n",
    "model.add(Conv2D(16, kernel_size=(5, 5), activation='relu'))\n",
    "\n",
    "# S4: Subsampling (Pooling) Layer\n",
    "model.add(AveragePooling2D(pool_size=(2, 2), strides=2))\n",
    "\n",
    "# C5: Convolutional Layer\n",
    "model.add(Conv2D(120, kernel_size=(5, 5), activation='relu'))\n",
    "\n",
    "# Flatten the output for fully connected layers\n",
    "model.add(Flatten())\n",
    "\n",
    "# F6: Fully Connected Layer\n",
    "model.add(Dense(84, activation='relu'))\n",
    "\n",
    "# Output Layer (for binary classification, change units for multiclass)\n",
    "model.add(Dense(num_classes, activation='softmax'))\n",
    "\n",
    "# Compile the model\n",
    "model.compile(optimizer='adam', loss='categorical_crossentropy', metrics=['accuracy'])\n",
    "\n",
    "# Model Summary\n",
    "model.summary()\n"
   ]
  },
  {
   "cell_type": "code",
   "execution_count": 8,
   "metadata": {
    "colab": {
     "base_uri": "https://localhost:8080/"
    },
    "executionInfo": {
     "elapsed": 3944093,
     "status": "ok",
     "timestamp": 1730210806219,
     "user": {
      "displayName": "Thiện Hồ Ngọc",
      "userId": "11639870260678535712"
     },
     "user_tz": -420
    },
    "id": "pneLSRAYVvrt",
    "outputId": "0c7d79e0-d141-4ce9-b424-9e41e17b6eaf"
   },
   "outputs": [
    {
     "name": "stdout",
     "output_type": "stream",
     "text": [
      "Epoch 1/10\n",
      "\u001b[1m28973/28973\u001b[0m \u001b[32m━━━━━━━━━━━━━━━━━━━━\u001b[0m\u001b[37m\u001b[0m \u001b[1m119s\u001b[0m 4ms/step - accuracy: 0.8413 - loss: 0.5261 - val_accuracy: 0.8691 - val_loss: 0.3883\n",
      "Epoch 2/10\n",
      "\u001b[1m28973/28973\u001b[0m \u001b[32m━━━━━━━━━━━━━━━━━━━━\u001b[0m\u001b[37m\u001b[0m \u001b[1m107s\u001b[0m 4ms/step - accuracy: 0.8725 - loss: 0.3808 - val_accuracy: 0.8745 - val_loss: 0.3684\n",
      "Epoch 3/10\n",
      "\u001b[1m28973/28973\u001b[0m \u001b[32m━━━━━━━━━━━━━━━━━━━━\u001b[0m\u001b[37m\u001b[0m \u001b[1m107s\u001b[0m 4ms/step - accuracy: 0.8762 - loss: 0.3647 - val_accuracy: 0.8770 - val_loss: 0.3608\n",
      "Epoch 4/10\n",
      "\u001b[1m28973/28973\u001b[0m \u001b[32m━━━━━━━━━━━━━━━━━━━━\u001b[0m\u001b[37m\u001b[0m \u001b[1m108s\u001b[0m 4ms/step - accuracy: 0.8782 - loss: 0.3577 - val_accuracy: 0.8803 - val_loss: 0.3520\n",
      "Epoch 5/10\n",
      "\u001b[1m28973/28973\u001b[0m \u001b[32m━━━━━━━━━━━━━━━━━━━━\u001b[0m\u001b[37m\u001b[0m \u001b[1m105s\u001b[0m 4ms/step - accuracy: 0.8809 - loss: 0.3498 - val_accuracy: 0.8860 - val_loss: 0.3409\n",
      "Epoch 6/10\n",
      "\u001b[1m28973/28973\u001b[0m \u001b[32m━━━━━━━━━━━━━━━━━━━━\u001b[0m\u001b[37m\u001b[0m \u001b[1m106s\u001b[0m 4ms/step - accuracy: 0.8873 - loss: 0.3344 - val_accuracy: 0.8877 - val_loss: 0.3322\n",
      "Epoch 7/10\n",
      "\u001b[1m28973/28973\u001b[0m \u001b[32m━━━━━━━━━━━━━━━━━━━━\u001b[0m\u001b[37m\u001b[0m \u001b[1m105s\u001b[0m 4ms/step - accuracy: 0.8888 - loss: 0.3299 - val_accuracy: 0.8885 - val_loss: 0.3304\n",
      "Epoch 8/10\n",
      "\u001b[1m28973/28973\u001b[0m \u001b[32m━━━━━━━━━━━━━━━━━━━━\u001b[0m\u001b[37m\u001b[0m \u001b[1m107s\u001b[0m 4ms/step - accuracy: 0.8891 - loss: 0.3283 - val_accuracy: 0.8886 - val_loss: 0.3308\n",
      "Epoch 9/10\n",
      "\u001b[1m28973/28973\u001b[0m \u001b[32m━━━━━━━━━━━━━━━━━━━━\u001b[0m\u001b[37m\u001b[0m \u001b[1m106s\u001b[0m 4ms/step - accuracy: 0.8897 - loss: 0.3258 - val_accuracy: 0.8898 - val_loss: 0.3267\n",
      "Epoch 10/10\n",
      "\u001b[1m28973/28973\u001b[0m \u001b[32m━━━━━━━━━━━━━━━━━━━━\u001b[0m\u001b[37m\u001b[0m \u001b[1m106s\u001b[0m 4ms/step - accuracy: 0.8903 - loss: 0.3237 - val_accuracy: 0.8887 - val_loss: 0.3249\n"
     ]
    },
    {
     "name": "stderr",
     "output_type": "stream",
     "text": [
      "WARNING:absl:You are saving your model as an HDF5 file via `model.save()` or `keras.saving.save_model(model)`. This file format is considered legacy. We recommend using instead the native Keras format, e.g. `model.save('my_model.keras')` or `keras.saving.save_model(model, 'my_model.keras')`. \n"
     ]
    }
   ],
   "source": [
    "history = model.fit(\n",
    "    X_train_CNN_7_layers, \n",
    "    y_train, \n",
    "    epochs=10, \n",
    "    batch_size=64, \n",
    "    validation_data=(X_test_CNN_7_layers, y_test),\n",
    "    verbose=1\n",
    ")\n",
    "\n",
    "# model.save('CNN_7_layers.h5')\n",
    "model.save('CNN_7_layers_pretrain.h5')"
   ]
  },
  {
   "cell_type": "code",
   "execution_count": 13,
   "metadata": {},
   "outputs": [
    {
     "name": "stdout",
     "output_type": "stream",
     "text": [
      "\u001b[1m11936/11936\u001b[0m \u001b[32m━━━━━━━━━━━━━━━━━━━━\u001b[0m\u001b[37m\u001b[0m \u001b[1m17s\u001b[0m 1ms/step\n",
      "(381935,)\n",
      "(381935,)\n",
      "Accuracy: 0.9480\n",
      "Precision: 0.9617\n",
      "Recall: 0.9480\n",
      "F1: 0.9425\n"
     ]
    }
   ],
   "source": [
    "y_pred = model.predict(X_test_CNN_7_layers)\n",
    "\n",
    "y_pred = np.argmax(y_pred, axis=1)\n",
    "y_test = np.argmax(y_test, axis=1)\n",
    "print(y_pred.shape)\n",
    "print(y_test.shape)\n",
    "from sklearn.metrics import accuracy_score, precision_score, recall_score, f1_score\n",
    "import tensorflow as tf\n",
    "def print_score(y_pred, y_real):\n",
    "    print(f\"Accuracy: {accuracy_score(y_real, y_pred):.4f}\")\n",
    "    print(f\"Precision: {precision_score(y_real, y_pred, average='weighted'):.4f}\")\n",
    "    print(f\"Recall: {recall_score(y_real, y_pred, average='weighted'):.4f}\")\n",
    "    print(f\"F1: {f1_score(y_real, y_pred, average='weighted'):.4f}\")\n",
    "print_score(y_pred, y_test)\n"
   ]
  },
  {
   "cell_type": "markdown",
   "metadata": {
    "id": "4CakViVVd0To"
   },
   "source": [
    "**LSTM**"
   ]
  },
  {
   "cell_type": "code",
   "execution_count": 11,
   "metadata": {
    "id": "9XRkXyQ-0WuU"
   },
   "outputs": [],
   "source": [
    "# Convert X_train and X_test dimension to 3-dimensional (row, 1, column)\n",
    "X_train_LSTM = X_train.reshape(X_train.shape[0], 1, X_train.shape[1])\n",
    "X_test_LSTM = X_test.reshape(X_test.shape[0], 1, X_test.shape[1])"
   ]
  },
  {
   "cell_type": "code",
   "execution_count": 10,
   "metadata": {
    "colab": {
     "base_uri": "https://localhost:8080/",
     "height": 298
    },
    "executionInfo": {
     "elapsed": 608,
     "status": "ok",
     "timestamp": 1730246436192,
     "user": {
      "displayName": "Thiện Hồ Ngọc",
      "userId": "11639870260678535712"
     },
     "user_tz": -420
    },
    "id": "rgVk_21ph6NS",
    "outputId": "c43cd6a0-6396-49d4-9277-4541a102f612"
   },
   "outputs": [
    {
     "name": "stderr",
     "output_type": "stream",
     "text": [
      "d:\\IDSGAN\\IDSGAN-main\\IDSGAN\\myenv\\Lib\\site-packages\\keras\\src\\layers\\rnn\\bidirectional.py:107: UserWarning: Do not pass an `input_shape`/`input_dim` argument to a layer. When using Sequential models, prefer using an `Input(shape)` object as the first layer in the model instead.\n",
      "  super().__init__(**kwargs)\n"
     ]
    }
   ],
   "source": [
    "import pandas as pd\n",
    "import numpy as np\n",
    "import tensorflow as tf\n",
    "from tensorflow.keras.models import Sequential\n",
    "from tensorflow.keras.layers import LSTM, Dense, Dropout, Bidirectional\n",
    "from sklearn.model_selection import train_test_split\n",
    "from sklearn.preprocessing import StandardScaler\n",
    "from sklearn.metrics import classification_report, accuracy_score\n",
    "\n",
    "model = Sequential()\n",
    "model.add(Bidirectional(LSTM(64, return_sequences=True), input_shape=(1, 96)))\n",
    "model.add(Dropout(0.2))\n",
    "model.add(Bidirectional(LSTM(32)))\n",
    "model.add(Dropout(0.2))\n",
    "model.add(Dense(num_classes, activation='sigmoid'))  # Binary classification\n",
    "\n",
    "# Compile the model\n",
    "model.compile(optimizer='adam', loss='binary_crossentropy', metrics=['accuracy'])\n"
   ]
  },
  {
   "cell_type": "code",
   "execution_count": 12,
   "metadata": {
    "colab": {
     "base_uri": "https://localhost:8080/"
    },
    "executionInfo": {
     "elapsed": 4924320,
     "status": "ok",
     "timestamp": 1730257765140,
     "user": {
      "displayName": "Thiện Hồ Ngọc",
      "userId": "11639870260678535712"
     },
     "user_tz": -420
    },
    "id": "rtR4DnKGimKE",
    "outputId": "02960c6f-75ed-40ab-c51f-98dfcfb87421"
   },
   "outputs": [
    {
     "name": "stdout",
     "output_type": "stream",
     "text": [
      "Epoch 1/15\n",
      "\u001b[1m26076/26076\u001b[0m \u001b[32m━━━━━━━━━━━━━━━━━━━━\u001b[0m\u001b[37m\u001b[0m \u001b[1m65s\u001b[0m 2ms/step - accuracy: 0.8503 - loss: 0.0547 - val_accuracy: 0.8781 - val_loss: 0.0376\n",
      "Epoch 2/15\n",
      "\u001b[1m26076/26076\u001b[0m \u001b[32m━━━━━━━━━━━━━━━━━━━━\u001b[0m\u001b[37m\u001b[0m \u001b[1m63s\u001b[0m 2ms/step - accuracy: 0.8766 - loss: 0.0385 - val_accuracy: 0.8809 - val_loss: 0.0366\n",
      "Epoch 3/15\n",
      "\u001b[1m26076/26076\u001b[0m \u001b[32m━━━━━━━━━━━━━━━━━━━━\u001b[0m\u001b[37m\u001b[0m \u001b[1m68s\u001b[0m 3ms/step - accuracy: 0.8796 - loss: 0.0374 - val_accuracy: 0.8824 - val_loss: 0.0358\n",
      "Epoch 4/15\n",
      "\u001b[1m26076/26076\u001b[0m \u001b[32m━━━━━━━━━━━━━━━━━━━━\u001b[0m\u001b[37m\u001b[0m \u001b[1m60s\u001b[0m 2ms/step - accuracy: 0.8819 - loss: 0.0366 - val_accuracy: 0.8846 - val_loss: 0.0350\n",
      "Epoch 5/15\n",
      "\u001b[1m26076/26076\u001b[0m \u001b[32m━━━━━━━━━━━━━━━━━━━━\u001b[0m\u001b[37m\u001b[0m \u001b[1m60s\u001b[0m 2ms/step - accuracy: 0.8841 - loss: 0.0360 - val_accuracy: 0.8872 - val_loss: 0.0346\n",
      "Epoch 6/15\n",
      "\u001b[1m26076/26076\u001b[0m \u001b[32m━━━━━━━━━━━━━━━━━━━━\u001b[0m\u001b[37m\u001b[0m \u001b[1m60s\u001b[0m 2ms/step - accuracy: 0.8858 - loss: 0.0354 - val_accuracy: 0.8874 - val_loss: 0.0343\n",
      "Epoch 7/15\n",
      "\u001b[1m26076/26076\u001b[0m \u001b[32m━━━━━━━━━━━━━━━━━━━━\u001b[0m\u001b[37m\u001b[0m \u001b[1m61s\u001b[0m 2ms/step - accuracy: 0.8862 - loss: 0.0352 - val_accuracy: 0.8876 - val_loss: 0.0343\n",
      "Epoch 8/15\n",
      "\u001b[1m26076/26076\u001b[0m \u001b[32m━━━━━━━━━━━━━━━━━━━━\u001b[0m\u001b[37m\u001b[0m \u001b[1m61s\u001b[0m 2ms/step - accuracy: 0.8864 - loss: 0.0351 - val_accuracy: 0.8880 - val_loss: 0.0342\n",
      "Epoch 9/15\n",
      "\u001b[1m26076/26076\u001b[0m \u001b[32m━━━━━━━━━━━━━━━━━━━━\u001b[0m\u001b[37m\u001b[0m \u001b[1m82s\u001b[0m 2ms/step - accuracy: 0.8865 - loss: 0.0351 - val_accuracy: 0.8882 - val_loss: 0.0341\n",
      "Epoch 10/15\n",
      "\u001b[1m26076/26076\u001b[0m \u001b[32m━━━━━━━━━━━━━━━━━━━━\u001b[0m\u001b[37m\u001b[0m \u001b[1m62s\u001b[0m 2ms/step - accuracy: 0.8870 - loss: 0.0349 - val_accuracy: 0.8879 - val_loss: 0.0336\n",
      "Epoch 11/15\n",
      "\u001b[1m26076/26076\u001b[0m \u001b[32m━━━━━━━━━━━━━━━━━━━━\u001b[0m\u001b[37m\u001b[0m \u001b[1m62s\u001b[0m 2ms/step - accuracy: 0.8890 - loss: 0.0343 - val_accuracy: 0.8923 - val_loss: 0.0328\n",
      "Epoch 12/15\n",
      "\u001b[1m26076/26076\u001b[0m \u001b[32m━━━━━━━━━━━━━━━━━━━━\u001b[0m\u001b[37m\u001b[0m \u001b[1m63s\u001b[0m 2ms/step - accuracy: 0.8910 - loss: 0.0337 - val_accuracy: 0.8925 - val_loss: 0.0326\n",
      "Epoch 13/15\n",
      "\u001b[1m26076/26076\u001b[0m \u001b[32m━━━━━━━━━━━━━━━━━━━━\u001b[0m\u001b[37m\u001b[0m \u001b[1m63s\u001b[0m 2ms/step - accuracy: 0.8912 - loss: 0.0337 - val_accuracy: 0.8928 - val_loss: 0.0326\n",
      "Epoch 14/15\n",
      "\u001b[1m26076/26076\u001b[0m \u001b[32m━━━━━━━━━━━━━━━━━━━━\u001b[0m\u001b[37m\u001b[0m \u001b[1m63s\u001b[0m 2ms/step - accuracy: 0.8916 - loss: 0.0336 - val_accuracy: 0.8926 - val_loss: 0.0325\n",
      "Epoch 15/15\n",
      "\u001b[1m26076/26076\u001b[0m \u001b[32m━━━━━━━━━━━━━━━━━━━━\u001b[0m\u001b[37m\u001b[0m \u001b[1m63s\u001b[0m 2ms/step - accuracy: 0.8917 - loss: 0.0334 - val_accuracy: 0.8929 - val_loss: 0.0326\n"
     ]
    },
    {
     "name": "stderr",
     "output_type": "stream",
     "text": [
      "WARNING:absl:You are saving your model as an HDF5 file via `model.save()` or `keras.saving.save_model(model)`. This file format is considered legacy. We recommend using instead the native Keras format, e.g. `model.save('my_model.keras')` or `keras.saving.save_model(model, 'my_model.keras')`. \n"
     ]
    }
   ],
   "source": [
    "from tensorflow.keras.callbacks import EarlyStopping\n",
    "\n",
    "early_stop = EarlyStopping(monitor='val_loss', patience=10, verbose=1)\n",
    "history = model.fit(X_train_LSTM, y_train, epochs=15, batch_size=64, validation_split=0.1, callbacks=[early_stop])\n",
    "# model.save('LSTM.h5')\n",
    "model.save('LSTM_pretrain.h5')"
   ]
  },
  {
   "cell_type": "markdown",
   "metadata": {
    "id": "RK9JYfU9zdS-"
   },
   "source": [
    "**CNN + GRU**"
   ]
  },
  {
   "cell_type": "code",
   "execution_count": 12,
   "metadata": {
    "id": "rUJDcLLa4p6-"
   },
   "outputs": [],
   "source": [
    "X_train_CNN_GRU = np.zeros((X_train.shape[0], 32 * 32))\n",
    "X_train_CNN_GRU[:, :96] = X_train  # Fill in the first 96 elements\n",
    "\n",
    "# Reshape to (390500, 32, 32, 1) for the CNN\n",
    "X_train_CNN_GRU = X_train_CNN_GRU.reshape(-1, 32, 32, 1)\n",
    "\n",
    "X_test_CNN_GRU = np.zeros((X_test.shape[0], 32 * 32))\n",
    "X_test_CNN_GRU[:, :96] = X_test  # Fill in the first 97 elements\n",
    "\n",
    "# Reshape to (390500, 32, 32, 1) for the CNN\n",
    "X_test_CNN_GRU = X_test_CNN_GRU.reshape(-1, 32, 32, 1)"
   ]
  },
  {
   "cell_type": "code",
   "execution_count": 13,
   "metadata": {
    "colab": {
     "base_uri": "https://localhost:8080/",
     "height": 331
    },
    "executionInfo": {
     "elapsed": 411,
     "status": "ok",
     "timestamp": 1730266033066,
     "user": {
      "displayName": "Thiện Hồ Ngọc",
      "userId": "11639870260678535712"
     },
     "user_tz": -420
    },
    "id": "zSspc29wzffN",
    "outputId": "19b55e11-c485-437c-9559-c06f90142d6f"
   },
   "outputs": [
    {
     "name": "stderr",
     "output_type": "stream",
     "text": [
      "d:\\IDSGAN\\IDSGAN-main\\IDSGAN\\myenv\\Lib\\site-packages\\keras\\src\\layers\\convolutional\\base_conv.py:107: UserWarning: Do not pass an `input_shape`/`input_dim` argument to a layer. When using Sequential models, prefer using an `Input(shape)` object as the first layer in the model instead.\n",
      "  super().__init__(activity_regularizer=activity_regularizer, **kwargs)\n"
     ]
    },
    {
     "data": {
      "text/html": [
       "<pre style=\"white-space:pre;overflow-x:auto;line-height:normal;font-family:Menlo,'DejaVu Sans Mono',consolas,'Courier New',monospace\"><span style=\"font-weight: bold\">Model: \"sequential\"</span>\n",
       "</pre>\n"
      ],
      "text/plain": [
       "\u001b[1mModel: \"sequential\"\u001b[0m\n"
      ]
     },
     "metadata": {},
     "output_type": "display_data"
    },
    {
     "data": {
      "text/html": [
       "<pre style=\"white-space:pre;overflow-x:auto;line-height:normal;font-family:Menlo,'DejaVu Sans Mono',consolas,'Courier New',monospace\">┏━━━━━━━━━━━━━━━━━━━━━━━━━━━━━━━━━┳━━━━━━━━━━━━━━━━━━━━━━━━┳━━━━━━━━━━━━━━━┓\n",
       "┃<span style=\"font-weight: bold\"> Layer (type)                    </span>┃<span style=\"font-weight: bold\"> Output Shape           </span>┃<span style=\"font-weight: bold\">       Param # </span>┃\n",
       "┡━━━━━━━━━━━━━━━━━━━━━━━━━━━━━━━━━╇━━━━━━━━━━━━━━━━━━━━━━━━╇━━━━━━━━━━━━━━━┩\n",
       "│ conv2d (<span style=\"color: #0087ff; text-decoration-color: #0087ff\">Conv2D</span>)                 │ (<span style=\"color: #00d7ff; text-decoration-color: #00d7ff\">None</span>, <span style=\"color: #00af00; text-decoration-color: #00af00\">30</span>, <span style=\"color: #00af00; text-decoration-color: #00af00\">30</span>, <span style=\"color: #00af00; text-decoration-color: #00af00\">32</span>)     │           <span style=\"color: #00af00; text-decoration-color: #00af00\">320</span> │\n",
       "├─────────────────────────────────┼────────────────────────┼───────────────┤\n",
       "│ max_pooling2d (<span style=\"color: #0087ff; text-decoration-color: #0087ff\">MaxPooling2D</span>)    │ (<span style=\"color: #00d7ff; text-decoration-color: #00d7ff\">None</span>, <span style=\"color: #00af00; text-decoration-color: #00af00\">15</span>, <span style=\"color: #00af00; text-decoration-color: #00af00\">15</span>, <span style=\"color: #00af00; text-decoration-color: #00af00\">32</span>)     │             <span style=\"color: #00af00; text-decoration-color: #00af00\">0</span> │\n",
       "├─────────────────────────────────┼────────────────────────┼───────────────┤\n",
       "│ conv2d_1 (<span style=\"color: #0087ff; text-decoration-color: #0087ff\">Conv2D</span>)               │ (<span style=\"color: #00d7ff; text-decoration-color: #00d7ff\">None</span>, <span style=\"color: #00af00; text-decoration-color: #00af00\">13</span>, <span style=\"color: #00af00; text-decoration-color: #00af00\">13</span>, <span style=\"color: #00af00; text-decoration-color: #00af00\">64</span>)     │        <span style=\"color: #00af00; text-decoration-color: #00af00\">18,496</span> │\n",
       "├─────────────────────────────────┼────────────────────────┼───────────────┤\n",
       "│ max_pooling2d_1 (<span style=\"color: #0087ff; text-decoration-color: #0087ff\">MaxPooling2D</span>)  │ (<span style=\"color: #00d7ff; text-decoration-color: #00d7ff\">None</span>, <span style=\"color: #00af00; text-decoration-color: #00af00\">6</span>, <span style=\"color: #00af00; text-decoration-color: #00af00\">6</span>, <span style=\"color: #00af00; text-decoration-color: #00af00\">64</span>)       │             <span style=\"color: #00af00; text-decoration-color: #00af00\">0</span> │\n",
       "├─────────────────────────────────┼────────────────────────┼───────────────┤\n",
       "│ conv2d_2 (<span style=\"color: #0087ff; text-decoration-color: #0087ff\">Conv2D</span>)               │ (<span style=\"color: #00d7ff; text-decoration-color: #00d7ff\">None</span>, <span style=\"color: #00af00; text-decoration-color: #00af00\">4</span>, <span style=\"color: #00af00; text-decoration-color: #00af00\">4</span>, <span style=\"color: #00af00; text-decoration-color: #00af00\">128</span>)      │        <span style=\"color: #00af00; text-decoration-color: #00af00\">73,856</span> │\n",
       "├─────────────────────────────────┼────────────────────────┼───────────────┤\n",
       "│ max_pooling2d_2 (<span style=\"color: #0087ff; text-decoration-color: #0087ff\">MaxPooling2D</span>)  │ (<span style=\"color: #00d7ff; text-decoration-color: #00d7ff\">None</span>, <span style=\"color: #00af00; text-decoration-color: #00af00\">2</span>, <span style=\"color: #00af00; text-decoration-color: #00af00\">2</span>, <span style=\"color: #00af00; text-decoration-color: #00af00\">128</span>)      │             <span style=\"color: #00af00; text-decoration-color: #00af00\">0</span> │\n",
       "├─────────────────────────────────┼────────────────────────┼───────────────┤\n",
       "│ flatten (<span style=\"color: #0087ff; text-decoration-color: #0087ff\">Flatten</span>)               │ (<span style=\"color: #00d7ff; text-decoration-color: #00d7ff\">None</span>, <span style=\"color: #00af00; text-decoration-color: #00af00\">512</span>)            │             <span style=\"color: #00af00; text-decoration-color: #00af00\">0</span> │\n",
       "├─────────────────────────────────┼────────────────────────┼───────────────┤\n",
       "│ reshape (<span style=\"color: #0087ff; text-decoration-color: #0087ff\">Reshape</span>)               │ (<span style=\"color: #00d7ff; text-decoration-color: #00d7ff\">None</span>, <span style=\"color: #00af00; text-decoration-color: #00af00\">512</span>, <span style=\"color: #00af00; text-decoration-color: #00af00\">1</span>)         │             <span style=\"color: #00af00; text-decoration-color: #00af00\">0</span> │\n",
       "├─────────────────────────────────┼────────────────────────┼───────────────┤\n",
       "│ gru (<span style=\"color: #0087ff; text-decoration-color: #0087ff\">GRU</span>)                       │ (<span style=\"color: #00d7ff; text-decoration-color: #00d7ff\">None</span>, <span style=\"color: #00af00; text-decoration-color: #00af00\">512</span>, <span style=\"color: #00af00; text-decoration-color: #00af00\">64</span>)        │        <span style=\"color: #00af00; text-decoration-color: #00af00\">12,864</span> │\n",
       "├─────────────────────────────────┼────────────────────────┼───────────────┤\n",
       "│ gru_1 (<span style=\"color: #0087ff; text-decoration-color: #0087ff\">GRU</span>)                     │ (<span style=\"color: #00d7ff; text-decoration-color: #00d7ff\">None</span>, <span style=\"color: #00af00; text-decoration-color: #00af00\">32</span>)             │         <span style=\"color: #00af00; text-decoration-color: #00af00\">9,408</span> │\n",
       "├─────────────────────────────────┼────────────────────────┼───────────────┤\n",
       "│ dropout (<span style=\"color: #0087ff; text-decoration-color: #0087ff\">Dropout</span>)               │ (<span style=\"color: #00d7ff; text-decoration-color: #00d7ff\">None</span>, <span style=\"color: #00af00; text-decoration-color: #00af00\">32</span>)             │             <span style=\"color: #00af00; text-decoration-color: #00af00\">0</span> │\n",
       "├─────────────────────────────────┼────────────────────────┼───────────────┤\n",
       "│ dense (<span style=\"color: #0087ff; text-decoration-color: #0087ff\">Dense</span>)                   │ (<span style=\"color: #00d7ff; text-decoration-color: #00d7ff\">None</span>, <span style=\"color: #00af00; text-decoration-color: #00af00\">15</span>)             │           <span style=\"color: #00af00; text-decoration-color: #00af00\">495</span> │\n",
       "└─────────────────────────────────┴────────────────────────┴───────────────┘\n",
       "</pre>\n"
      ],
      "text/plain": [
       "┏━━━━━━━━━━━━━━━━━━━━━━━━━━━━━━━━━┳━━━━━━━━━━━━━━━━━━━━━━━━┳━━━━━━━━━━━━━━━┓\n",
       "┃\u001b[1m \u001b[0m\u001b[1mLayer (type)                   \u001b[0m\u001b[1m \u001b[0m┃\u001b[1m \u001b[0m\u001b[1mOutput Shape          \u001b[0m\u001b[1m \u001b[0m┃\u001b[1m \u001b[0m\u001b[1m      Param #\u001b[0m\u001b[1m \u001b[0m┃\n",
       "┡━━━━━━━━━━━━━━━━━━━━━━━━━━━━━━━━━╇━━━━━━━━━━━━━━━━━━━━━━━━╇━━━━━━━━━━━━━━━┩\n",
       "│ conv2d (\u001b[38;5;33mConv2D\u001b[0m)                 │ (\u001b[38;5;45mNone\u001b[0m, \u001b[38;5;34m30\u001b[0m, \u001b[38;5;34m30\u001b[0m, \u001b[38;5;34m32\u001b[0m)     │           \u001b[38;5;34m320\u001b[0m │\n",
       "├─────────────────────────────────┼────────────────────────┼───────────────┤\n",
       "│ max_pooling2d (\u001b[38;5;33mMaxPooling2D\u001b[0m)    │ (\u001b[38;5;45mNone\u001b[0m, \u001b[38;5;34m15\u001b[0m, \u001b[38;5;34m15\u001b[0m, \u001b[38;5;34m32\u001b[0m)     │             \u001b[38;5;34m0\u001b[0m │\n",
       "├─────────────────────────────────┼────────────────────────┼───────────────┤\n",
       "│ conv2d_1 (\u001b[38;5;33mConv2D\u001b[0m)               │ (\u001b[38;5;45mNone\u001b[0m, \u001b[38;5;34m13\u001b[0m, \u001b[38;5;34m13\u001b[0m, \u001b[38;5;34m64\u001b[0m)     │        \u001b[38;5;34m18,496\u001b[0m │\n",
       "├─────────────────────────────────┼────────────────────────┼───────────────┤\n",
       "│ max_pooling2d_1 (\u001b[38;5;33mMaxPooling2D\u001b[0m)  │ (\u001b[38;5;45mNone\u001b[0m, \u001b[38;5;34m6\u001b[0m, \u001b[38;5;34m6\u001b[0m, \u001b[38;5;34m64\u001b[0m)       │             \u001b[38;5;34m0\u001b[0m │\n",
       "├─────────────────────────────────┼────────────────────────┼───────────────┤\n",
       "│ conv2d_2 (\u001b[38;5;33mConv2D\u001b[0m)               │ (\u001b[38;5;45mNone\u001b[0m, \u001b[38;5;34m4\u001b[0m, \u001b[38;5;34m4\u001b[0m, \u001b[38;5;34m128\u001b[0m)      │        \u001b[38;5;34m73,856\u001b[0m │\n",
       "├─────────────────────────────────┼────────────────────────┼───────────────┤\n",
       "│ max_pooling2d_2 (\u001b[38;5;33mMaxPooling2D\u001b[0m)  │ (\u001b[38;5;45mNone\u001b[0m, \u001b[38;5;34m2\u001b[0m, \u001b[38;5;34m2\u001b[0m, \u001b[38;5;34m128\u001b[0m)      │             \u001b[38;5;34m0\u001b[0m │\n",
       "├─────────────────────────────────┼────────────────────────┼───────────────┤\n",
       "│ flatten (\u001b[38;5;33mFlatten\u001b[0m)               │ (\u001b[38;5;45mNone\u001b[0m, \u001b[38;5;34m512\u001b[0m)            │             \u001b[38;5;34m0\u001b[0m │\n",
       "├─────────────────────────────────┼────────────────────────┼───────────────┤\n",
       "│ reshape (\u001b[38;5;33mReshape\u001b[0m)               │ (\u001b[38;5;45mNone\u001b[0m, \u001b[38;5;34m512\u001b[0m, \u001b[38;5;34m1\u001b[0m)         │             \u001b[38;5;34m0\u001b[0m │\n",
       "├─────────────────────────────────┼────────────────────────┼───────────────┤\n",
       "│ gru (\u001b[38;5;33mGRU\u001b[0m)                       │ (\u001b[38;5;45mNone\u001b[0m, \u001b[38;5;34m512\u001b[0m, \u001b[38;5;34m64\u001b[0m)        │        \u001b[38;5;34m12,864\u001b[0m │\n",
       "├─────────────────────────────────┼────────────────────────┼───────────────┤\n",
       "│ gru_1 (\u001b[38;5;33mGRU\u001b[0m)                     │ (\u001b[38;5;45mNone\u001b[0m, \u001b[38;5;34m32\u001b[0m)             │         \u001b[38;5;34m9,408\u001b[0m │\n",
       "├─────────────────────────────────┼────────────────────────┼───────────────┤\n",
       "│ dropout (\u001b[38;5;33mDropout\u001b[0m)               │ (\u001b[38;5;45mNone\u001b[0m, \u001b[38;5;34m32\u001b[0m)             │             \u001b[38;5;34m0\u001b[0m │\n",
       "├─────────────────────────────────┼────────────────────────┼───────────────┤\n",
       "│ dense (\u001b[38;5;33mDense\u001b[0m)                   │ (\u001b[38;5;45mNone\u001b[0m, \u001b[38;5;34m15\u001b[0m)             │           \u001b[38;5;34m495\u001b[0m │\n",
       "└─────────────────────────────────┴────────────────────────┴───────────────┘\n"
      ]
     },
     "metadata": {},
     "output_type": "display_data"
    },
    {
     "data": {
      "text/html": [
       "<pre style=\"white-space:pre;overflow-x:auto;line-height:normal;font-family:Menlo,'DejaVu Sans Mono',consolas,'Courier New',monospace\"><span style=\"font-weight: bold\"> Total params: </span><span style=\"color: #00af00; text-decoration-color: #00af00\">115,439</span> (450.93 KB)\n",
       "</pre>\n"
      ],
      "text/plain": [
       "\u001b[1m Total params: \u001b[0m\u001b[38;5;34m115,439\u001b[0m (450.93 KB)\n"
      ]
     },
     "metadata": {},
     "output_type": "display_data"
    },
    {
     "data": {
      "text/html": [
       "<pre style=\"white-space:pre;overflow-x:auto;line-height:normal;font-family:Menlo,'DejaVu Sans Mono',consolas,'Courier New',monospace\"><span style=\"font-weight: bold\"> Trainable params: </span><span style=\"color: #00af00; text-decoration-color: #00af00\">115,439</span> (450.93 KB)\n",
       "</pre>\n"
      ],
      "text/plain": [
       "\u001b[1m Trainable params: \u001b[0m\u001b[38;5;34m115,439\u001b[0m (450.93 KB)\n"
      ]
     },
     "metadata": {},
     "output_type": "display_data"
    },
    {
     "data": {
      "text/html": [
       "<pre style=\"white-space:pre;overflow-x:auto;line-height:normal;font-family:Menlo,'DejaVu Sans Mono',consolas,'Courier New',monospace\"><span style=\"font-weight: bold\"> Non-trainable params: </span><span style=\"color: #00af00; text-decoration-color: #00af00\">0</span> (0.00 B)\n",
       "</pre>\n"
      ],
      "text/plain": [
       "\u001b[1m Non-trainable params: \u001b[0m\u001b[38;5;34m0\u001b[0m (0.00 B)\n"
      ]
     },
     "metadata": {},
     "output_type": "display_data"
    }
   ],
   "source": [
    "#CNN_GRU\n",
    "#Network Intrusion Detection Model Based on CNN and GRU\n",
    "from keras.layers import GRU\n",
    "from tensorflow.keras.layers import Reshape\n",
    "from tensorflow.keras.layers import Conv1D, MaxPooling1D, Flatten, Dense, LSTM, GRU, MaxPooling2D, Conv2D\n",
    "\n",
    "# model = Sequential()\n",
    "# model.add(Conv1D(filters=32, kernel_size=3, activation='relu', input_shape=input_shape))\n",
    "# model.add(MaxPooling1D(pool_size=2))\n",
    "# # model.add(Conv1D(filters=64, kernel_size=3, activation='relu'))\n",
    "# # model.add(MaxPooling1D(pool_size=2))\n",
    "# model.add(GRU(32, return_sequences=False))\n",
    "# model.add(Flatten())\n",
    "# # model.add(Dense(128, activation='relu'))\n",
    "# model.add(Dropout(0.5))\n",
    "# model.add(Dense(num_classes, activation='softmax'))\n",
    "# model.summary()\n",
    "\n",
    "model = Sequential()\n",
    "\n",
    "    # CNN Layers for spatial feature extraction\n",
    "model.add(Conv2D(32, (3, 3), activation='relu', input_shape=(32, 32, 1)))\n",
    "model.add(MaxPooling2D((2, 2)))\n",
    "model.add(Conv2D(64, (3, 3), activation='relu'))\n",
    "model.add(MaxPooling2D((2, 2)))\n",
    "model.add(Conv2D(128, (3, 3), activation='relu'))\n",
    "model.add(MaxPooling2D((2, 2)))\n",
    "    #  output to feed into GRU layers\n",
    "model.add(Flatten())\n",
    "model.add(Reshape((model.output_shape[1], 1)))  # Reshape for GRU \n",
    "    # GRU or temporal sequence learning\n",
    "model.add(GRU(64, activation='relu', return_sequences=True))\n",
    "model.add(GRU(32, activation='relu'))\n",
    "    # Conected layer for classification\n",
    "    \n",
    "model.add(Dropout(0.5))  # Dropout for regularization\n",
    "model.add(Dense(num_classes, activation='softmax'))  # Softmax for multi-class\n",
    "\n",
    "model.summary()\n"
   ]
  },
  {
   "cell_type": "code",
   "execution_count": null,
   "metadata": {
    "colab": {
     "base_uri": "https://localhost:8080/"
    },
    "executionInfo": {
     "elapsed": 2655551,
     "status": "ok",
     "timestamp": 1730272652090,
     "user": {
      "displayName": "Thiện Hồ Ngọc",
      "userId": "11639870260678535712"
     },
     "user_tz": -420
    },
    "id": "Y_QLJwJJ_a0O",
    "outputId": "57b86947-e603-4e1f-a798-b62f6651c7b8"
   },
   "outputs": [],
   "source": [
    "import tensorflow as tf\n",
    "opt = Adam(learning_rate=0.001)\n",
    "model.compile(optimizer='adam', loss= tf.keras.metrics.categorical_crossentropy,\n",
    "                  metrics=['accuracy'])\n",
    "\n",
    "\n",
    "from keras.callbacks import ModelCheckpoint, EarlyStopping, ReduceLROnPlateau\n",
    "\n",
    "lr_reduce = ReduceLROnPlateau(monitor='val_loss', factor=0.5, patience=5, mode=\"min\", verbose=1, min_lr=0)\n",
    "#plotlosses = PlotLossesKeras()\n",
    "call_backs = [lr_reduce]\n",
    "EPOCHS = 10\n",
    "BATCH_SIZE = 256\n",
    "\n",
    "history = model.fit(X_train_CNN_GRU, y_train,\n",
    "                   validation_data=(X_test_CNN_GRU, y_test),\n",
    "                    validation_split=0.1,\n",
    "                    epochs=EPOCHS,\n",
    "                    batch_size=BATCH_SIZE,\n",
    "                    callbacks=call_backs,\n",
    "                    #class_weight=class_weights,\n",
    "                    verbose=1)\n",
    "model.save('CNN_GRU.h5')"
   ]
  },
  {
   "cell_type": "code",
   "execution_count": null,
   "metadata": {
    "colab": {
     "base_uri": "https://localhost:8080/"
    },
    "executionInfo": {
     "elapsed": 566,
     "status": "ok",
     "timestamp": 1730272661125,
     "user": {
      "displayName": "Thiện Hồ Ngọc",
      "userId": "11639870260678535712"
     },
     "user_tz": -420
    },
    "id": "1gDknqeGQv22",
    "outputId": "e9fbd813-9d22-4c4e-c16a-9ef4ddd639fc"
   },
   "outputs": [
    {
     "name": "stderr",
     "output_type": "stream",
     "text": [
      "WARNING:absl:You are saving your model as an HDF5 file via `model.save()` or `keras.saving.save_model(model)`. This file format is considered legacy. We recommend using instead the native Keras format, e.g. `model.save('my_model.keras')` or `keras.saving.save_model(model, 'my_model.keras')`. \n"
     ]
    }
   ],
   "source": [
    "os.chdir(\"/content/drive/MyDrive/IDSGAN/Edge-IIoT/\")\n",
    "model.save('CNN_GRU.h5')"
   ]
  },
  {
   "cell_type": "markdown",
   "metadata": {
    "id": "RjCVDThvwFLQ"
   },
   "source": [
    "**Evaluation**"
   ]
  },
  {
   "cell_type": "code",
   "execution_count": 6,
   "metadata": {
    "colab": {
     "base_uri": "https://localhost:8080/"
    },
    "executionInfo": {
     "elapsed": 46246,
     "status": "ok",
     "timestamp": 1730280311299,
     "user": {
      "displayName": "Thiện Hồ Ngọc",
      "userId": "11639870260678535712"
     },
     "user_tz": -420
    },
    "id": "9BCnjXoBp_bE",
    "outputId": "0724a7c9-a363-454d-d4ca-fa867e158516"
   },
   "outputs": [],
   "source": [
    "from sklearn.metrics import accuracy_score, precision_score, recall_score, f1_score\n",
    "import tensorflow as tf\n",
    "def print_score(y_pred, y_real):\n",
    "    print(f\"Accuracy: {accuracy_score(y_real, y_pred):.4f}\")\n",
    "    print(f\"Precision: {precision_score(y_real, y_pred, average='weighted'):.4f}\")\n",
    "    print(f\"Recall: {recall_score(y_real, y_pred, average='weighted'):.4f}\")\n",
    "    print(f\"F1: {f1_score(y_real, y_pred, average='weighted'):.4f}\")\n"
   ]
  },
  {
   "cell_type": "code",
   "execution_count": 22,
   "metadata": {
    "colab": {
     "base_uri": "https://localhost:8080/"
    },
    "executionInfo": {
     "elapsed": 44961,
     "status": "ok",
     "timestamp": 1730280639052,
     "user": {
      "displayName": "Thiện Hồ Ngọc",
      "userId": "11639870260678535712"
     },
     "user_tz": -420
    },
    "id": "VcXIxH2HwQKM",
    "outputId": "cceb058f-2a8e-474a-bca8-3fe5687ce5fa"
   },
   "outputs": [
    {
     "name": "stderr",
     "output_type": "stream",
     "text": [
      "WARNING:absl:Compiled the loaded model, but the compiled metrics have yet to be built. `model.compile_metrics` will be empty until you train or evaluate the model.\n"
     ]
    },
    {
     "name": "stdout",
     "output_type": "stream",
     "text": [
      "\u001b[1m11936/11936\u001b[0m \u001b[32m━━━━━━━━━━━━━━━━━━━━\u001b[0m\u001b[37m\u001b[0m \u001b[1m17s\u001b[0m 1ms/step\n",
      "Accuracy: 0.9420\n",
      "Precision: 0.9541\n",
      "Recall: 0.9420\n",
      "F1: 0.9349\n"
     ]
    }
   ],
   "source": [
    "#CNN with 3 layers\n",
    "# CNN_3_layers = tf.keras.models.load_model('d:\\\\IDSGAN\\\\IDSGAN-main\\\\IDSGAN\\\\Dataset\\\\Edge-IIoTset\\\\CNN_3_layers.h5')\n",
    "CNN_3_layers = tf.keras.models.load_model('d:\\\\IDSGAN\\\\IDSGAN-main\\\\IDSGAN\\\\Dataset\\\\Edge-IIoTset\\\\CNN_3_layers_pretrain.h5')\n",
    "y_pred = CNN_3_layers.predict(X_test_CNN_3_layers)\n",
    "y_pred = np.argmax(y_pred, axis=1)\n",
    "y_true = np.argmax(y_test, axis=1)\n",
    "print_score(y_pred, y_true)"
   ]
  },
  {
   "cell_type": "code",
   "execution_count": 21,
   "metadata": {
    "colab": {
     "base_uri": "https://localhost:8080/"
    },
    "executionInfo": {
     "elapsed": 30869,
     "status": "ok",
     "timestamp": 1730280698773,
     "user": {
      "displayName": "Thiện Hồ Ngọc",
      "userId": "11639870260678535712"
     },
     "user_tz": -420
    },
    "id": "bljcQc_NwuYd",
    "outputId": "ed1bcae3-e674-4b13-96fd-c08da7da8119"
   },
   "outputs": [
    {
     "name": "stderr",
     "output_type": "stream",
     "text": [
      "WARNING:absl:Compiled the loaded model, but the compiled metrics have yet to be built. `model.compile_metrics` will be empty until you train or evaluate the model.\n"
     ]
    },
    {
     "name": "stdout",
     "output_type": "stream",
     "text": [
      "\u001b[1m11936/11936\u001b[0m \u001b[32m━━━━━━━━━━━━━━━━━━━━\u001b[0m\u001b[37m\u001b[0m \u001b[1m20s\u001b[0m 2ms/step\n",
      "Accuracy: 0.9493\n",
      "Precision: 0.9547\n",
      "Recall: 0.9493\n",
      "F1: 0.9460\n"
     ]
    }
   ],
   "source": [
    "#CNN with 5 layers\n",
    "CNN_5_layers = tf.keras.models.load_model('d:\\\\IDSGAN\\\\IDSGAN-main\\\\IDSGAN\\\\Dataset\\\\Edge-IIoTset\\\\CNN_5_layers.h5')\n",
    "# CNN_5_layers = tf.keras.models.load_model('d:\\\\IDSGAN\\\\IDSGAN-main\\\\IDSGAN\\\\Dataset\\\\Edge-IIoTset\\\\CNN_5_layers_pretrain.h5')\n",
    "y_pred = CNN_5_layers.predict(X_test_CNN_5_layers)\n",
    "y_pred = np.argmax(y_pred, axis=1)\n",
    "y_true = np.argmax(y_test, axis=1)\n",
    "print_score(y_pred, y_true)"
   ]
  },
  {
   "cell_type": "code",
   "execution_count": 23,
   "metadata": {
    "colab": {
     "base_uri": "https://localhost:8080/"
    },
    "executionInfo": {
     "elapsed": 34139,
     "status": "ok",
     "timestamp": 1730280749270,
     "user": {
      "displayName": "Thiện Hồ Ngọc",
      "userId": "11639870260678535712"
     },
     "user_tz": -420
    },
    "id": "mqmOL6RHwySw",
    "outputId": "f1e820be-6324-4506-eb58-5b6fa3e8bfb2"
   },
   "outputs": [
    {
     "name": "stderr",
     "output_type": "stream",
     "text": [
      "WARNING:absl:Compiled the loaded model, but the compiled metrics have yet to be built. `model.compile_metrics` will be empty until you train or evaluate the model.\n"
     ]
    },
    {
     "name": "stdout",
     "output_type": "stream",
     "text": [
      "\u001b[1m11936/11936\u001b[0m \u001b[32m━━━━━━━━━━━━━━━━━━━━\u001b[0m\u001b[37m\u001b[0m \u001b[1m24s\u001b[0m 2ms/step\n",
      "Accuracy: 0.9438\n",
      "Precision: 0.9475\n",
      "Recall: 0.9438\n",
      "F1: 0.9422\n"
     ]
    }
   ],
   "source": [
    "#CNN with 7 layers\n",
    "# CNN_7_layers = tf.keras.models.load_model('d:\\\\IDSGAN\\\\IDSGAN-main\\\\IDSGAN\\\\Dataset\\\\Edge-IIoTset\\\\CNN_7_layers.h5')\n",
    "CNN_7_layers = tf.keras.models.load_model('d:\\\\IDSGAN\\\\IDSGAN-main\\\\IDSGAN\\\\Dataset\\\\Edge-IIoTset\\\\CNN_7_layers_pretrain.h5')\n",
    "y_pred = CNN_7_layers.predict(X_test_CNN_7_layers)\n",
    "y_pred = np.argmax(y_pred, axis=1)\n",
    "y_true = np.argmax(y_test, axis=1)\n",
    "print_score(y_pred, y_true)"
   ]
  },
  {
   "cell_type": "code",
   "execution_count": 24,
   "metadata": {
    "colab": {
     "base_uri": "https://localhost:8080/"
    },
    "executionInfo": {
     "elapsed": 28498,
     "status": "ok",
     "timestamp": 1730280793132,
     "user": {
      "displayName": "Thiện Hồ Ngọc",
      "userId": "11639870260678535712"
     },
     "user_tz": -420
    },
    "id": "xEvjmG_bxIXC",
    "outputId": "bebdc412-a8c7-4407-8fc0-009b3933ec99"
   },
   "outputs": [
    {
     "name": "stderr",
     "output_type": "stream",
     "text": [
      "WARNING:absl:Compiled the loaded model, but the compiled metrics have yet to be built. `model.compile_metrics` will be empty until you train or evaluate the model.\n"
     ]
    },
    {
     "name": "stdout",
     "output_type": "stream",
     "text": [
      "\u001b[1m11936/11936\u001b[0m \u001b[32m━━━━━━━━━━━━━━━━━━━━\u001b[0m\u001b[37m\u001b[0m \u001b[1m18s\u001b[0m 1ms/step\n",
      "Accuracy: 0.9481\n",
      "Precision: 0.9506\n",
      "Recall: 0.9481\n",
      "F1: 0.9470\n"
     ]
    }
   ],
   "source": [
    "#LSTM\n",
    "# LSTM = tf.keras.models.load_model('d:\\\\IDSGAN\\\\IDSGAN-main\\\\IDSGAN\\\\Dataset\\\\Edge-IIoTset\\\\LSTM.h5')\n",
    "LSTM = tf.keras.models.load_model('d:\\\\IDSGAN\\\\IDSGAN-main\\\\IDSGAN\\\\Dataset\\\\Edge-IIoTset\\\\LSTM_pretrain.h5')\n",
    "y_pred = LSTM.predict(X_test_LSTM)\n",
    "y_pred = np.argmax(y_pred, axis=1)\n",
    "y_true = np.argmax(y_test, axis=1)\n",
    "print_score(y_pred, y_true)"
   ]
  },
  {
   "cell_type": "code",
   "execution_count": null,
   "metadata": {
    "colab": {
     "base_uri": "https://localhost:8080/"
    },
    "executionInfo": {
     "elapsed": 40200,
     "status": "ok",
     "timestamp": 1730280525252,
     "user": {
      "displayName": "Thiện Hồ Ngọc",
      "userId": "11639870260678535712"
     },
     "user_tz": -420
    },
    "id": "J9-RzukKwKix",
    "outputId": "8a55bde9-cdd5-4d40-8d2c-972a1ce3e790"
   },
   "outputs": [
    {
     "name": "stderr",
     "output_type": "stream",
     "text": [
      "WARNING:absl:Compiled the loaded model, but the compiled metrics have yet to be built. `model.compile_metrics` will be empty until you train or evaluate the model.\n"
     ]
    },
    {
     "name": "stdout",
     "output_type": "stream",
     "text": [
      "\u001b[1m11936/11936\u001b[0m \u001b[32m━━━━━━━━━━━━━━━━━━━━\u001b[0m\u001b[37m\u001b[0m \u001b[1m33s\u001b[0m 3ms/step\n",
      "Accuracy: 0.9324\n",
      "Precision: 0.9216\n"
     ]
    },
    {
     "name": "stderr",
     "output_type": "stream",
     "text": [
      "/usr/local/lib/python3.10/dist-packages/sklearn/metrics/_classification.py:1531: UndefinedMetricWarning: Precision is ill-defined and being set to 0.0 in labels with no predicted samples. Use `zero_division` parameter to control this behavior.\n",
      "  _warn_prf(average, modifier, f\"{metric.capitalize()} is\", len(result))\n"
     ]
    },
    {
     "name": "stdout",
     "output_type": "stream",
     "text": [
      "Recall: 0.9324\n",
      "F1: 0.9195\n"
     ]
    }
   ],
   "source": [
    "#CNN+GRU\n",
    "CNN_GRU = tf.keras.models.load_model('d:\\\\IDSGAN\\\\IDSGAN-main\\\\IDSGAN\\\\Dataset\\\\Edge-IIoTset\\\\CNN_GRU.h5')\n",
    "y_pred = CNN_GRU.predict(X_test_CNN_GRU)\n",
    "y_pred = np.argmax(y_pred, axis=1)\n",
    "y_true = np.argmax(y_test, axis=1)\n",
    "print_score(y_pred, y_true)"
   ]
  },
  {
   "cell_type": "markdown",
   "metadata": {},
   "source": [
    "**CTGAN**"
   ]
  },
  {
   "cell_type": "code",
   "execution_count": null,
   "metadata": {},
   "outputs": [],
   "source": [
    "from sdv.metadata import SingleTableMetadata\n",
    "\n",
    "# Đọc dữ liệu từ file CSV\n",
    "real_data = pd.read_csv('C:\\\\Users\\\\DUCLUONG\\\\Downloads\\\\DNN-EdgeIIoT-dataset.csv\\\\DNN-EdgeIIoT-dataset.csv', low_memory=False)\n",
    "\n",
    "# Khởi tạo đối tượng metadata\n",
    "metadata = SingleTableMetadata()\n",
    "\n",
    "# Phát hiện metadata từ DataFrame\n",
    "metadata.detect_from_dataframe(real_data)\n",
    "\n",
    "# Kiểm tra dữ liệu và metadata\n",
    "#print(real_data.head())\n",
    "#print(metadata.to_dict())"
   ]
  },
  {
   "cell_type": "code",
   "execution_count": null,
   "metadata": {},
   "outputs": [],
   "source": [
    "metadata.get_column_names(sdtype='categorical')"
   ]
  },
  {
   "cell_type": "code",
   "execution_count": null,
   "metadata": {},
   "outputs": [],
   "source": [
    "from sklearn.utils import shuffle\n",
    "\n",
    "# Danh sách các cột cần loại bỏ\n",
    "drop_columns = [\"frame.time\", \"ip.src_host\", \"ip.dst_host\", \"arp.src.proto_ipv4\",\"arp.dst.proto_ipv4\",\n",
    "                \"http.file_data\",\"http.request.full_uri\",\"icmp.transmit_timestamp\",\n",
    "                \"http.request.uri.query\", \"tcp.options\",\"tcp.payload\",\"tcp.srcport\",\n",
    "                \"tcp.dstport\", \"udp.port\", \"mqtt.msg\"]\n",
    "\n",
    "# Loại bỏ các cột (bỏ qua những cột không có trong DataFrame)\n",
    "real_data.drop(drop_columns, axis=1, inplace=True, errors='ignore')\n",
    "\n",
    "# Loại bỏ các hàng có giá trị null và trùng lặp\n",
    "real_data.dropna(axis=0, how='any', inplace=True)\n",
    "real_data.drop_duplicates(subset=None, keep=\"first\", inplace=True)\n",
    "\n",
    "# Shuffle dữ liệu\n",
    "real_data = shuffle(real_data)"
   ]
  },
  {
   "cell_type": "code",
   "execution_count": null,
   "metadata": {},
   "outputs": [],
   "source": [
    "from sdv.metadata import SingleTableMetadata\n",
    "\n",
    "# Tạo lại metadata dựa trên dữ liệu đã loại bỏ cột\n",
    "metadata = SingleTableMetadata()\n",
    "metadata.detect_from_dataframe(real_data)"
   ]
  },
  {
   "cell_type": "code",
   "execution_count": null,
   "metadata": {},
   "outputs": [],
   "source": [
    "from sdv.single_table import CTGANSynthesizer\n",
    "\n",
    "# Khởi tạo mô hình với batch_size tùy chỉnh\n",
    "synthesizer = CTGANSynthesizer(metadata, batch_size=100, epochs= 50)\n",
    "\n",
    "# Huấn luyện mô hình\n",
    "synthesizer.fit(real_data)\n",
    "\n",
    "# Lưu mô hình đã huấn luyện\n",
    "synthesizer.save('C:\\\\Users\\\\DUCLUONG\\\\Downloads\\\\ctgan_model_2.pkl')"
   ]
  },
  {
   "cell_type": "code",
   "execution_count": null,
   "metadata": {},
   "outputs": [],
   "source": [
    "from sdv.single_table import CTGANSynthesizer\n",
    "\n",
    "synthesizer = CTGANSynthesizer.load(\n",
    "    filepath='C:\\\\Users\\\\DUCLUONG\\\\Downloads\\\\ctgan_model_2.pkl'\n",
    ")"
   ]
  },
  {
   "cell_type": "code",
   "execution_count": null,
   "metadata": {},
   "outputs": [],
   "source": [
    "from sdv.sampling import Condition\n",
    "\n",
    "conditions = [\n",
    "    Condition(\n",
    "        num_rows=5380,\n",
    "        column_values={'Attack_type': 'Normal'}\n",
    "    ),\n",
    "    Condition(\n",
    "        num_rows=5380,\n",
    "        column_values={'Attack_type': 'MITM'}\n",
    "    ),\n",
    "    Condition(\n",
    "        num_rows=5380,\n",
    "        column_values={'Attack_type': 'Uploading'}\n",
    "    ),\n",
    "    Condition(\n",
    "        num_rows=5380,\n",
    "        column_values={'Attack_type': 'Ransomware'}\n",
    "    ),\n",
    "    Condition(\n",
    "        num_rows=5380,\n",
    "        column_values={'Attack_type': 'SQL_injection'}\n",
    "    ),\n",
    "    Condition(\n",
    "        num_rows=5380,\n",
    "        column_values={'Attack_type': 'DDoS_HTTP'}\n",
    "    ),\n",
    "    Condition(\n",
    "        num_rows=5380,\n",
    "        column_values={'Attack_type': 'DDoS_TCP'}\n",
    "    ),\n",
    "    Condition(\n",
    "        num_rows=5380,\n",
    "        column_values={'Attack_type': 'Password'}\n",
    "    ),\n",
    "    Condition(\n",
    "        num_rows=5380,\n",
    "        column_values={'Attack_type': 'Port_Scanning'}\n",
    "    ),\n",
    "    Condition(\n",
    "        num_rows=5380,\n",
    "        column_values={'Attack_type': 'Vulnerability_scanner'}\n",
    "    ),\n",
    "    Condition(\n",
    "        num_rows=5380,\n",
    "        column_values={'Attack_type': 'Backdoor'}\n",
    "    ),\n",
    "    Condition(\n",
    "        num_rows=5380,\n",
    "        column_values={'Attack_type': 'XSS'}\n",
    "    ),\n",
    "    Condition(\n",
    "        num_rows=5380,\n",
    "        column_values={'Attack_type': 'Fingerprinting'}\n",
    "    ),\n",
    "    Condition(\n",
    "        num_rows=5380,\n",
    "        column_values={'Attack_type': 'DDoS_UDP'}\n",
    "    ),\n",
    "    Condition(\n",
    "        num_rows=5380,\n",
    "        column_values={'Attack_type': 'DDoS_ICMP'}\n",
    "    ),\n",
    "    \n",
    "    # http.request.method điều kiện\n",
    "    Condition(\n",
    "        num_rows=5380,\n",
    "        column_values={'http.request.method': '0.0'}\n",
    "    ),\n",
    "    Condition(\n",
    "        num_rows=5380,\n",
    "        column_values={'http.request.method': '0'}\n",
    "    ),\n",
    "    Condition(\n",
    "        num_rows=5380,\n",
    "        column_values={'http.request.method': 'GET'}\n",
    "    ),\n",
    "    Condition(\n",
    "        num_rows=5380,\n",
    "        column_values={'http.request.method': 'TRACE'}\n",
    "    ),\n",
    "    Condition(\n",
    "        num_rows=5380,\n",
    "        column_values={'http.request.method': 'POST'}\n",
    "    ),\n",
    "    Condition(\n",
    "        num_rows=5380,\n",
    "        column_values={'http.request.method': 'OPTIONS'}\n",
    "    ),\n",
    "    Condition(\n",
    "        num_rows=5380,\n",
    "        column_values={'http.request.method': 'PUT'}\n",
    "    ),\n",
    "    Condition(\n",
    "        num_rows=5380,\n",
    "        column_values={'http.request.method': 'PROPFIND'}\n",
    "    ),\n",
    "    Condition(\n",
    "        num_rows=5380,\n",
    "        column_values={'http.request.method': 'SEARCH'}\n",
    "    ),\n",
    "    \n",
    "    # http.referer điều kiện\n",
    "    Condition(\n",
    "        num_rows=5380,\n",
    "        column_values={'http.referer': '0.0'}\n",
    "    ),\n",
    "    Condition(\n",
    "        num_rows=5380,\n",
    "        column_values={'http.referer': '0'}\n",
    "    ),\n",
    "    Condition(\n",
    "        num_rows=5380,\n",
    "        column_values={'http.referer': '127.0.0.1'}\n",
    "    ),\n",
    "    Condition(\n",
    "        num_rows=5380,\n",
    "        column_values={'http.referer': '() { _; } >_[$($())] { echo 93e4r0-CVE-2014-6278: true; echo;echo; }'}\n",
    "    ),\n",
    "    Condition(\n",
    "        num_rows=5380,\n",
    "        column_values={'http.referer': 'TESTING_PURPOSES_ONLY'}\n",
    "    ),\n",
    "    \n",
    "    # http.request.version điều kiện\n",
    "    Condition(\n",
    "        num_rows=5380,\n",
    "        column_values={'http.request.version': '0.0'}\n",
    "    ),\n",
    "    Condition(\n",
    "        num_rows=5380,\n",
    "        column_values={'http.request.version': '0'}\n",
    "    ),\n",
    "    Condition(\n",
    "        num_rows=5380,\n",
    "        column_values={'http.request.version': 'HTTP/1.1'}\n",
    "    ),\n",
    "    Condition(\n",
    "        num_rows=5380,\n",
    "        column_values={'http.request.version': 'HTTP/1.0'}\n",
    "    ),\n",
    "    Condition(\n",
    "        num_rows=5380,\n",
    "        column_values={'http.request.version': 'Src=javascript:alert(\\'Vulnerable\\')><Img Src=\\\\\" HTTP/1.1'}\n",
    "    ),\n",
    "    Condition(\n",
    "        num_rows=5380,\n",
    "        column_values={'http.request.version': 'script>alert(1)/script><\\\\\" HTTP/1.1'}\n",
    "    ),\n",
    "    Condition(\n",
    "        num_rows=5380,\n",
    "        column_values={'http.request.version': '-al&ABSOLUTE_PATH_STUDIP=http://cirt.net/rfiinc.txt?? HTTP/1.1'}\n",
    "    ),\n",
    "    Condition(\n",
    "        num_rows=5380,\n",
    "        column_values={'http.request.version': '-a HTTP/1.1'}\n",
    "    ),\n",
    "    Condition(\n",
    "        num_rows=5380,\n",
    "        column_values={'http.request.version': 'By Dr HTTP/1.1'}\n",
    "    ),\n",
    "    Condition(\n",
    "        num_rows=5380,\n",
    "        column_values={'http.request.version': '/etc/passwd|?data=Download HTTP/1.1'}\n",
    "    ),\n",
    "    Condition(\n",
    "        num_rows=5380,\n",
    "        column_values={'http.request.version': '-al&_PHPLIB[libdir]=http://cirt.net/rfiinc.txt?? HTTP/1.1'}\n",
    "    ),\n",
    "    Condition(\n",
    "        num_rows=5380,\n",
    "        column_values={'http.request.version': '> HTTP/1.1'}\n",
    "    ),\n",
    "    Condition(\n",
    "        num_rows=5380,\n",
    "        column_values={'http.request.version': \"name=a><input name=i value=XSS>&lt;script>alert('Vulnerable')</script> HTTP/1.1\"}\n",
    "    ),\n",
    "    \n",
    "    # dns.qry.name.len điều kiện\n",
    "    Condition(\n",
    "        num_rows=5380,\n",
    "        column_values={'dns.qry.name.len': '0'}\n",
    "    ),\n",
    "    Condition(\n",
    "        num_rows=5380,\n",
    "        column_values={'dns.qry.name.len': '0.0'}\n",
    "    ),\n",
    "    Condition(\n",
    "        num_rows=5380,\n",
    "        column_values={'dns.qry.name.len': '2.debian.pool.ntp.org'}\n",
    "    ),\n",
    "    Condition(\n",
    "        num_rows=5380,\n",
    "        column_values={'dns.qry.name.len': '3.debian.pool.ntp.org'}\n",
    "    ),\n",
    "    Condition(\n",
    "        num_rows=5380,\n",
    "        column_values={'dns.qry.name.len': '0.debian.pool.ntp.org'}\n",
    "    ),\n",
    "    Condition(\n",
    "        num_rows=5380,\n",
    "        column_values={'dns.qry.name.len': '1.debian.pool.ntp.org'}\n",
    "    ),\n",
    "    Condition(\n",
    "        num_rows=5380,\n",
    "        column_values={'dns.qry.name.len': '1.0'}\n",
    "    ),\n",
    "    Condition(\n",
    "        num_rows=5380,\n",
    "        column_values={'dns.qry.name.len': 'raspberrypi.local'}\n",
    "    ),\n",
    "    Condition(\n",
    "        num_rows=5380,\n",
    "        column_values={'dns.qry.name.len': 'null-null.local'}\n",
    "    ),\n",
    "    Condition(\n",
    "        num_rows=5380,\n",
    "        column_values={'dns.qry.name.len': '_googlecast._tcp.local'}\n",
    "    ),\n",
    "    \n",
    "    # mqtt.conack.flags điều kiện\n",
    "    Condition(\n",
    "        num_rows=5380,\n",
    "        column_values={'mqtt.conack.flags': '0x00000000'}\n",
    "    ),\n",
    "    Condition(\n",
    "        num_rows=5380,\n",
    "        column_values={'mqtt.conack.flags': '0'}\n",
    "    ),\n",
    "    Condition(\n",
    "        num_rows=5380,\n",
    "        column_values={'mqtt.conack.flags': '0.0'}\n",
    "    ),\n",
    "    Condition(\n",
    "        num_rows=5380,\n",
    "        column_values={'mqtt.conack.flags': '1574358'}\n",
    "    ),\n",
    "    Condition(\n",
    "        num_rows=5380,\n",
    "        column_values={'mqtt.conack.flags': '1471198'}\n",
    "    ),\n",
    "    Condition(\n",
    "        num_rows=5380,\n",
    "        column_values={'mqtt.conack.flags': '1574359'}\n",
    "    ),\n",
    "    Condition(\n",
    "        num_rows=5380,\n",
    "        column_values={'mqtt.conack.flags': '1461384'}\n",
    "    ),\n",
    "    Condition(\n",
    "        num_rows=5380,\n",
    "        column_values={'mqtt.conack.flags': '1471199'}\n",
    "    ),\n",
    "    Condition(\n",
    "        num_rows=5380,\n",
    "        column_values={'mqtt.conack.flags': '1461589'}\n",
    "    ),\n",
    "    Condition(\n",
    "        num_rows=5380,\n",
    "        column_values={'mqtt.conack.flags': '1461383'}\n",
    "    ),\n",
    "    Condition(\n",
    "        num_rows=5380,\n",
    "        column_values={'mqtt.conack.flags': '1461073'}\n",
    "    ),\n",
    "    Condition(\n",
    "        num_rows=5380,\n",
    "        column_values={'mqtt.conack.flags': '1461591'}\n",
    "    ),\n",
    "    Condition(\n",
    "        num_rows=5380,\n",
    "        column_values={'mqtt.conack.flags': '1461074'}\n",
    "    ),\n",
    "    \n",
    "    # mqtt.protoname điều kiện\n",
    "    Condition(\n",
    "        num_rows=5380,\n",
    "        column_values={'mqtt.protoname': '0'}\n",
    "    ),\n",
    "    Condition(\n",
    "        num_rows=5380,\n",
    "        column_values={'mqtt.protoname': '0.0'}\n",
    "    ),\n",
    "    Condition(\n",
    "        num_rows=5380,\n",
    "        column_values={'mqtt.protoname': 'MQTT'}\n",
    "    ),\n",
    "    \n",
    "    # mqtt.topic điều kiện\n",
    "    Condition(\n",
    "        num_rows=5380,\n",
    "        column_values={'mqtt.topic': '0'}\n",
    "    ),\n",
    "    Condition(\n",
    "        num_rows=5380,\n",
    "        column_values={'mqtt.topic': '0.0'}\n",
    "    ),\n",
    "    Condition(\n",
    "        num_rows=5380,\n",
    "        column_values={'mqtt.topic': 'Temperature_and_Humidity'}\n",
    "    )\n",
    "]\n",
    "\n",
    "\n",
    "synthetic_data = synthesizer.sample_from_conditions(\n",
    "    conditions=conditions,\n",
    "    batch_size=500,  \n",
    "    max_tries_per_batch=500,  \n",
    "    output_file_path='C:\\\\Users\\\\DUCLUONG\\\\Downloads\\\\synthetic-data_50ep.csv'\n",
    ")\n",
    "\n",
    "\n",
    "# synthetic_data.to_csv('C:\\\\Users\\\\DUCLUONG\\\\Downloads\\\\synthetic_data_CS.csv', index=False)"
   ]
  },
  {
   "cell_type": "markdown",
   "metadata": {
    "id": "Y9jHQF3U1ng3"
   },
   "source": [
    " **CTGAN evaluation**"
   ]
  },
  {
   "cell_type": "code",
   "execution_count": 20,
   "metadata": {},
   "outputs": [],
   "source": [
    "import pandas as pd\n",
    "#real_data = pd.read_csv(\"d:\\\\IDSGAN\\\\IDSGAN-main\\\\IDSGAN\\\\Dataset\\\\Edge-IIoTset\\\\preprocessed.csv\", low_memory=False)\n",
    "# GAN_df = pd.read_csv(\"d:\\\\IDSGAN\\\\IDSGAN-main\\\\IDSGAN\\\\Dataset\\\\Edge-IIoTset\\\\synthetic_data_CS.csv\", low_memory=False)\n",
    "GAN_df = pd.read_csv(\"d:\\\\IDSGAN\\\\IDSGAN-main\\\\IDSGAN\\\\Dataset\\\\Edge-IIoTset\\\\synthetic_data_15ep.csv\", low_memory=False)\n"
   ]
  },
  {
   "cell_type": "code",
   "execution_count": 3,
   "metadata": {
    "executionInfo": {
     "elapsed": 744,
     "status": "ok",
     "timestamp": 1730875067050,
     "user": {
      "displayName": "Thiện Hồ Ngọc",
      "userId": "11639870260678535712"
     },
     "user_tz": -420
    },
    "id": "PQeXJLnoKpOY"
   },
   "outputs": [],
   "source": [
    "def encode_text_dummy(GAN_df, name):\n",
    "    dummies = pd.get_dummies(GAN_df[name])\n",
    "    for x in dummies.columns:\n",
    "        dummy_name = f\"{name}-{x}\"\n",
    "        GAN_df[dummy_name] = dummies[x]\n",
    "    GAN_df.drop(name, axis=1, inplace=True)\n",
    "\n",
    "encode_text_dummy(GAN_df,'http.request.method')\n",
    "encode_text_dummy(GAN_df,'http.referer')\n",
    "encode_text_dummy(GAN_df,\"http.request.version\")\n",
    "encode_text_dummy(GAN_df,\"dns.qry.name.len\")\n",
    "encode_text_dummy(GAN_df,\"mqtt.conack.flags\")\n",
    "encode_text_dummy(GAN_df,\"mqtt.protoname\")\n",
    "encode_text_dummy(GAN_df,\"mqtt.topic\")"
   ]
  },
  {
   "cell_type": "code",
   "execution_count": null,
   "metadata": {
    "colab": {
     "base_uri": "https://localhost:8080/"
    },
    "executionInfo": {
     "elapsed": 394,
     "status": "ok",
     "timestamp": 1730875071123,
     "user": {
      "displayName": "Thiện Hồ Ngọc",
      "userId": "11639870260678535712"
     },
     "user_tz": -420
    },
    "id": "95Ycthg1LWjM",
    "outputId": "dce3fc31-e5f2-45aa-b5f7-702e5ae349e7"
   },
   "outputs": [],
   "source": [
    "# Apply Median Filtering to all features\n",
    "window_size_median = 3  # Window size for median filtering\n",
    "for feature in GAN_df.columns:\n",
    "    if feature != 'Attack_type':  # Exclude the label column\n",
    "        GAN_df[feature + '_median_filtered'] = GAN_df[feature].rolling(window=window_size_median, center=True).median()\n",
    "\n",
    "# Apply Standard Deviation-based Filtering to all features\n",
    "threshold_std = 3  # Threshold for standard deviation-based filtering\n",
    "for feature in GAN_df.columns:\n",
    "    if feature != 'Attack_type':  # Exclude the label column\n",
    "        mean = GAN_df[feature].mean()\n",
    "        std = GAN_df[feature].std()\n",
    "        upper_bound = mean + threshold_std * std\n",
    "        lower_bound = mean - threshold_std * std\n",
    "        GAN_df[feature + '_std_filtered'] = GAN_df[feature].apply(lambda x: x if (lower_bound <= x <= upper_bound) else None)\n",
    "\n",
    "# Drop original features that were filtered\n",
    "GAN_df.drop(GAN_df.columns[GAN_df.columns.str.endswith('_filtered')], axis=1, inplace=True)"
   ]
  },
  {
   "cell_type": "code",
   "execution_count": 24,
   "metadata": {},
   "outputs": [],
   "source": [
    "GAN_df.to_csv('CTGAN_preprocessed_15ep.csv', index=False)"
   ]
  },
  {
   "cell_type": "code",
   "execution_count": 5,
   "metadata": {
    "colab": {
     "base_uri": "https://localhost:8080/"
    },
    "executionInfo": {
     "elapsed": 396,
     "status": "ok",
     "timestamp": 1730875116393,
     "user": {
      "displayName": "Thiện Hồ Ngọc",
      "userId": "11639870260678535712"
     },
     "user_tz": -420
    },
    "id": "OS__nNJHn3Su",
    "outputId": "95829f89-964b-4c63-b088-df5f8b255613"
   },
   "outputs": [],
   "source": [
    "# GAN_df = pd.read_csv(\"CTGAN_preprocessed.csv\", low_memory=False)\n",
    "GAN_df = pd.read_csv(\"CTGAN_preprocessed_15ep.csv\", low_memory=False)\n",
    "y_test = GAN_df[\"Attack_type\"]\n",
    "X_test = GAN_df.drop([\"Attack_type\"], axis=1)"
   ]
  },
  {
   "cell_type": "code",
   "execution_count": 6,
   "metadata": {
    "colab": {
     "base_uri": "https://localhost:8080/"
    },
    "executionInfo": {
     "elapsed": 4217,
     "status": "ok",
     "timestamp": 1730280169255,
     "user": {
      "displayName": "Thiện Hồ Ngọc",
      "userId": "11639870260678535712"
     },
     "user_tz": -420
    },
    "id": "NBmcNX1kjPqF",
    "outputId": "6c33cc60-1229-41de-eb90-9d553031ee4d"
   },
   "outputs": [],
   "source": [
    "# Converting categorical value in \"Attack_type\" to integer value\n",
    "from sklearn.preprocessing import LabelEncoder\n",
    "\n",
    "label_encoder = LabelEncoder()\n",
    "y_test = label_encoder.fit_transform(y_test)\n",
    "\n",
    "label_encoder.classes_\n",
    "\n",
    "#Normalize\n",
    "from sklearn.preprocessing import MinMaxScaler\n",
    "\n",
    "min_max_scaler = MinMaxScaler()\n",
    "X_test = min_max_scaler.fit_transform(X_test)"
   ]
  },
  {
   "cell_type": "markdown",
   "metadata": {
    "id": "IZPOneG3TX_a"
   },
   "source": [
    "**ASR with CNN 3 layers**"
   ]
  },
  {
   "cell_type": "code",
   "execution_count": 8,
   "metadata": {
    "executionInfo": {
     "elapsed": 457,
     "status": "ok",
     "timestamp": 1730812085704,
     "user": {
      "displayName": "Thiện Hồ Ngọc",
      "userId": "11639870260678535712"
     },
     "user_tz": -420
    },
    "id": "u5BGQLGkTE6k"
   },
   "outputs": [
    {
     "data": {
      "text/plain": [
       "(381935, 96, 1)"
      ]
     },
     "execution_count": 8,
     "metadata": {},
     "output_type": "execute_result"
    }
   ],
   "source": [
    "X_test_CNN_3_layers = X_test.reshape(X_test.shape[0], X_test.shape[1], 1)\n",
    "X_test_CNN_3_layers.shape"
   ]
  },
  {
   "cell_type": "code",
   "execution_count": 9,
   "metadata": {},
   "outputs": [
    {
     "name": "stderr",
     "output_type": "stream",
     "text": [
      "WARNING:absl:Compiled the loaded model, but the compiled metrics have yet to be built. `model.compile_metrics` will be empty until you train or evaluate the model.\n"
     ]
    },
    {
     "name": "stdout",
     "output_type": "stream",
     "text": [
      "\u001b[1m12204/12204\u001b[0m \u001b[32m━━━━━━━━━━━━━━━━━━━━\u001b[0m\u001b[37m\u001b[0m \u001b[1m12s\u001b[0m 989us/step\n",
      "(390500,)\n",
      "(390500,)\n",
      "ASR on CNN 3 layers IDS: 59.10%\n"
     ]
    }
   ],
   "source": [
    "#CNN_3_layers\n",
    "import tensorflow as tf\n",
    "model = tf.keras.models.load_model('d:\\\\IDSGAN\\\\IDSGAN-main\\\\IDSGAN\\\\Dataset\\\\Edge-IIoTset\\\\CNN_3_layers.h5')\n",
    "# model = tf.keras.models.load_model('d:\\\\IDSGAN\\\\IDSGAN-main\\\\IDSGAN\\\\Dataset\\\\Edge-IIoTset\\\\CNN_3_layers_pretrain.h5')\n",
    "y_pred = model.predict(X_test_CNN_3_layers)\n",
    "y_pred = np.argmax(y_pred, axis=1)\n",
    "\n",
    "print(np.shape(y_test))\n",
    "print(np.shape(y_pred))\n",
    "\n",
    "#Calculate ASR\n",
    "\n",
    "original_labels = np.array(y_test)\n",
    "attacked_labels = np.array(y_pred)\n",
    "\n",
    "# Calculate misclassified label\n",
    "num_misclassified = np.sum(original_labels != attacked_labels)\n",
    "\n",
    "# Total attack samples\n",
    "total_samples = len(original_labels)\n",
    "\n",
    "asr = num_misclassified / total_samples\n",
    "print(f\"ASR on CNN 3 layers IDS: {asr:.2%}\")\n"
   ]
  },
  {
   "cell_type": "code",
   "execution_count": 10,
   "metadata": {
    "id": "1Ma6AhpiTfOX"
   },
   "outputs": [
    {
     "name": "stderr",
     "output_type": "stream",
     "text": [
      "WARNING:absl:Compiled the loaded model, but the compiled metrics have yet to be built. `model.compile_metrics` will be empty until you train or evaluate the model.\n"
     ]
    },
    {
     "name": "stdout",
     "output_type": "stream",
     "text": [
      "\u001b[1m12204/12204\u001b[0m \u001b[32m━━━━━━━━━━━━━━━━━━━━\u001b[0m\u001b[37m\u001b[0m \u001b[1m12s\u001b[0m 960us/step\n",
      "(390500,)\n",
      "(390500,)\n",
      "ASR on CNN 3 layers IDS: 59.49%\n"
     ]
    }
   ],
   "source": [
    "#CNN_3_layers\n",
    "import tensorflow as tf\n",
    "# model = tf.keras.models.load_model('d:\\\\IDSGAN\\\\IDSGAN-main\\\\IDSGAN\\\\Dataset\\\\Edge-IIoTset\\\\CNN_3_layers_pretrain.h5')\n",
    "model = tf.keras.models.load_model('d:\\\\IDSGAN\\\\IDSGAN-main\\\\IDSGAN\\\\Dataset\\\\Edge-IIoTset\\\\CNN_3_layers_pretrain.h5')\n",
    "y_pred = model.predict(X_test_CNN_3_layers)\n",
    "y_pred = np.argmax(y_pred, axis=1)\n",
    "\n",
    "print(np.shape(y_test))\n",
    "print(np.shape(y_pred))\n",
    "\n",
    "#Calculate ASR\n",
    "\n",
    "original_labels = np.array(y_test)\n",
    "attacked_labels = np.array(y_pred)\n",
    "\n",
    "# Calculate misclassified label\n",
    "num_misclassified = np.sum(original_labels != attacked_labels)\n",
    "\n",
    "# Total attack samples\n",
    "total_samples = len(original_labels)\n",
    "\n",
    "asr = num_misclassified / total_samples\n",
    "print(f\"ASR on CNN 3 layers IDS: {asr:.2%}\")\n"
   ]
  },
  {
   "cell_type": "markdown",
   "metadata": {},
   "source": [
    "**ASR with CNN 5 layers**"
   ]
  },
  {
   "cell_type": "code",
   "execution_count": 9,
   "metadata": {},
   "outputs": [
    {
     "data": {
      "text/plain": [
       "(381935, 96, 1)"
      ]
     },
     "execution_count": 9,
     "metadata": {},
     "output_type": "execute_result"
    }
   ],
   "source": [
    "X_test_CNN_5_layers = X_test.reshape(X_test.shape[0], X_test.shape[1], 1)\n",
    "X_test_CNN_5_layers.shape"
   ]
  },
  {
   "cell_type": "code",
   "execution_count": 12,
   "metadata": {},
   "outputs": [
    {
     "name": "stderr",
     "output_type": "stream",
     "text": [
      "WARNING:absl:Compiled the loaded model, but the compiled metrics have yet to be built. `model.compile_metrics` will be empty until you train or evaluate the model.\n"
     ]
    },
    {
     "name": "stdout",
     "output_type": "stream",
     "text": [
      "\u001b[1m12204/12204\u001b[0m \u001b[32m━━━━━━━━━━━━━━━━━━━━\u001b[0m\u001b[37m\u001b[0m \u001b[1m16s\u001b[0m 1ms/step\n",
      "(390500,)\n",
      "(390500,)\n",
      "ASR on CNN 5 layers IDS: 35.46%\n"
     ]
    }
   ],
   "source": [
    "#CNN_5_layers\n",
    "import tensorflow as tf\n",
    "model = tf.keras.models.load_model('d:\\\\IDSGAN\\\\IDSGAN-main\\\\IDSGAN\\\\Dataset\\\\Edge-IIoTset\\\\CNN_5_layers.h5')\n",
    "# model = tf.keras.models.load_model('d:\\\\IDSGAN\\\\IDSGAN-main\\\\IDSGAN\\\\Dataset\\\\Edge-IIoTset\\\\CNN_5_layers_pretrain.h5')\n",
    "y_pred = model.predict(X_test_CNN_5_layers)\n",
    "y_pred = np.argmax(y_pred, axis=1)\n",
    "\n",
    "print(np.shape(y_test))\n",
    "print(np.shape(y_pred))\n",
    "\n",
    "#Calculate ASR\n",
    "\n",
    "original_labels = np.array(y_test)\n",
    "attacked_labels = np.array(y_pred)\n",
    "\n",
    "# Calculate misclassified label\n",
    "num_misclassified = np.sum(original_labels != attacked_labels)\n",
    "\n",
    "# Total attack samples\n",
    "total_samples = len(original_labels)\n",
    "\n",
    "asr = num_misclassified / total_samples\n",
    "print(f\"ASR on CNN 5 layers IDS: {asr:.2%}\")\n"
   ]
  },
  {
   "cell_type": "code",
   "execution_count": 13,
   "metadata": {
    "colab": {
     "base_uri": "https://localhost:8080/",
     "height": 563
    },
    "executionInfo": {
     "elapsed": 1118,
     "status": "error",
     "timestamp": 1730812162515,
     "user": {
      "displayName": "Thiện Hồ Ngọc",
      "userId": "11639870260678535712"
     },
     "user_tz": -420
    },
    "id": "SVgPTSTPY2M2",
    "outputId": "61ce1e6e-1df7-4c3b-e977-a72cd2fee77f"
   },
   "outputs": [
    {
     "name": "stderr",
     "output_type": "stream",
     "text": [
      "WARNING:absl:Compiled the loaded model, but the compiled metrics have yet to be built. `model.compile_metrics` will be empty until you train or evaluate the model.\n"
     ]
    },
    {
     "name": "stdout",
     "output_type": "stream",
     "text": [
      "\u001b[1m12204/12204\u001b[0m \u001b[32m━━━━━━━━━━━━━━━━━━━━\u001b[0m\u001b[37m\u001b[0m \u001b[1m16s\u001b[0m 1ms/step\n",
      "(390500,)\n",
      "(390500,)\n",
      "ASR on CNN 5 layers IDS: 35.79%\n"
     ]
    }
   ],
   "source": [
    "#CNN_5_layers\n",
    "import tensorflow as tf\n",
    "# model = tf.keras.models.load_model('d:\\\\IDSGAN\\\\IDSGAN-main\\\\IDSGAN\\\\Dataset\\\\Edge-IIoTset\\\\CNN_5_layers.h5')\n",
    "model = tf.keras.models.load_model('d:\\\\IDSGAN\\\\IDSGAN-main\\\\IDSGAN\\\\Dataset\\\\Edge-IIoTset\\\\CNN_5_layers_pretrain.h5')\n",
    "y_pred = model.predict(X_test_CNN_5_layers)\n",
    "y_pred = np.argmax(y_pred, axis=1)\n",
    "\n",
    "print(np.shape(y_test))\n",
    "print(np.shape(y_pred))\n",
    "\n",
    "#Calculate ASR\n",
    "\n",
    "original_labels = np.array(y_test)\n",
    "attacked_labels = np.array(y_pred)\n",
    "\n",
    "# Calculate misclassified label\n",
    "num_misclassified = np.sum(original_labels != attacked_labels)\n",
    "\n",
    "# Total attack samples\n",
    "total_samples = len(original_labels)\n",
    "\n",
    "asr = num_misclassified / total_samples\n",
    "print(f\"ASR on CNN 5 layers IDS: {asr:.2%}\")\n"
   ]
  },
  {
   "cell_type": "markdown",
   "metadata": {},
   "source": [
    "**ASR with CNN 7 layers**"
   ]
  },
  {
   "cell_type": "code",
   "execution_count": 10,
   "metadata": {},
   "outputs": [],
   "source": [
    "X_test_CNN_7_layers = np.zeros((X_test.shape[0], 32 * 32))\n",
    "X_test_CNN_7_layers[:, :96] = X_test  # Fill in the first 97 elements\n",
    "\n",
    "# Reshape to (390500, 32, 32, 1) for the CNN\n",
    "X_test_CNN_7_layers = X_test_CNN_7_layers.reshape(-1, 32, 32, 1)"
   ]
  },
  {
   "cell_type": "code",
   "execution_count": 15,
   "metadata": {
    "id": "hrjfFd8AZAnI"
   },
   "outputs": [
    {
     "name": "stderr",
     "output_type": "stream",
     "text": [
      "WARNING:absl:Compiled the loaded model, but the compiled metrics have yet to be built. `model.compile_metrics` will be empty until you train or evaluate the model.\n"
     ]
    },
    {
     "name": "stdout",
     "output_type": "stream",
     "text": [
      "\u001b[1m12204/12204\u001b[0m \u001b[32m━━━━━━━━━━━━━━━━━━━━\u001b[0m\u001b[37m\u001b[0m \u001b[1m18s\u001b[0m 1ms/step\n",
      "(390500,)\n",
      "(390500,)\n",
      "ASR on CNN 7 layers IDS: 40.37%\n"
     ]
    }
   ],
   "source": [
    "#CNN_7_layers\n",
    "import tensorflow as tf\n",
    "model = tf.keras.models.load_model('d:\\\\IDSGAN\\\\IDSGAN-main\\\\IDSGAN\\\\Dataset\\\\Edge-IIoTset\\\\CNN_7_layers.h5')\n",
    "y_pred = model.predict(X_test_CNN_7_layers)\n",
    "y_pred = np.argmax(y_pred, axis=1)\n",
    "\n",
    "print(np.shape(y_test))\n",
    "print(np.shape(y_pred))\n",
    "\n",
    "#Calculate ASR\n",
    "\n",
    "original_labels = np.array(y_test)\n",
    "attacked_labels = np.array(y_pred)\n",
    "\n",
    "# Calculate misclassified label\n",
    "num_misclassified = np.sum(original_labels != attacked_labels)\n",
    "\n",
    "# Total attack samples\n",
    "total_samples = len(original_labels)\n",
    "\n",
    "asr = num_misclassified / total_samples\n",
    "print(f\"ASR on CNN 7 layers IDS: {asr:.2%}\")\n"
   ]
  },
  {
   "cell_type": "code",
   "execution_count": 16,
   "metadata": {},
   "outputs": [
    {
     "name": "stderr",
     "output_type": "stream",
     "text": [
      "WARNING:absl:Compiled the loaded model, but the compiled metrics have yet to be built. `model.compile_metrics` will be empty until you train or evaluate the model.\n"
     ]
    },
    {
     "name": "stdout",
     "output_type": "stream",
     "text": [
      "\u001b[1m12204/12204\u001b[0m \u001b[32m━━━━━━━━━━━━━━━━━━━━\u001b[0m\u001b[37m\u001b[0m \u001b[1m19s\u001b[0m 2ms/step\n",
      "(390500,)\n",
      "(390500,)\n",
      "ASR on CNN 7 layers IDS: 35.17%\n"
     ]
    }
   ],
   "source": [
    "#CNN_7_layers pretrained\n",
    "import tensorflow as tf\n",
    "model = tf.keras.models.load_model('d:\\\\IDSGAN\\\\IDSGAN-main\\\\IDSGAN\\\\Dataset\\\\Edge-IIoTset\\\\CNN_7_layers_pretrain.h5')\n",
    "y_pred = model.predict(X_test_CNN_7_layers)\n",
    "y_pred = np.argmax(y_pred, axis=1)\n",
    "\n",
    "print(np.shape(y_test))\n",
    "print(np.shape(y_pred))\n",
    "\n",
    "#Calculate ASR\n",
    "\n",
    "original_labels = np.array(y_test)\n",
    "attacked_labels = np.array(y_pred)\n",
    "\n",
    "# Calculate misclassified label\n",
    "num_misclassified = np.sum(original_labels != attacked_labels)\n",
    "\n",
    "# Total attack samples\n",
    "total_samples = len(original_labels)\n",
    "\n",
    "asr = num_misclassified / total_samples\n",
    "print(f\"ASR on CNN 7 layers IDS: {asr:.2%}\")\n"
   ]
  },
  {
   "cell_type": "markdown",
   "metadata": {},
   "source": [
    "**ASR with CNN + GRU**"
   ]
  },
  {
   "cell_type": "code",
   "execution_count": 31,
   "metadata": {},
   "outputs": [
    {
     "data": {
      "text/plain": [
       "(390500, 96, 1)"
      ]
     },
     "execution_count": 31,
     "metadata": {},
     "output_type": "execute_result"
    }
   ],
   "source": [
    "X_test_CNN_GRU = X_test.reshape(X_test.shape[0], X_test.shape[1], 1)\n",
    "X_test_CNN_GRU.shape"
   ]
  },
  {
   "cell_type": "code",
   "execution_count": null,
   "metadata": {},
   "outputs": [],
   "source": [
    "#CNN + GRU\n",
    "import tensorflow as tf\n",
    "model = tf.keras.models.load_model('d:\\\\IDSGAN\\\\IDSGAN-main\\\\IDSGAN\\\\Dataset\\\\Edge-IIoTset\\\\CNN_GRU.h5')\n",
    "y_pred = model.predict(X_test_CNN_GRU)\n",
    "y_pred = np.argmax(y_pred, axis=1)\n",
    "\n",
    "print(np.shape(y_test))\n",
    "print(np.shape(y_pred))\n",
    "\n",
    "#Calculate ASR\n",
    "\n",
    "original_labels = np.array(y_test)\n",
    "attacked_labels = np.array(y_pred)\n",
    "\n",
    "# Calculate misclassified label\n",
    "num_misclassified = np.sum(original_labels != attacked_labels)\n",
    "\n",
    "# Total attack samples\n",
    "total_samples = len(original_labels)\n",
    "\n",
    "asr = num_misclassified / total_samples\n",
    "print(f\"ASR on CNN+GRU based IDS: {asr:.2%}\")\n"
   ]
  },
  {
   "cell_type": "markdown",
   "metadata": {},
   "source": [
    "**LSTM**"
   ]
  },
  {
   "cell_type": "code",
   "execution_count": 17,
   "metadata": {},
   "outputs": [
    {
     "data": {
      "text/plain": [
       "(381935, 1, 96)"
      ]
     },
     "execution_count": 17,
     "metadata": {},
     "output_type": "execute_result"
    }
   ],
   "source": [
    "X_test_LSTM = X_test.reshape(X_test.shape[0], 1, X_test.shape[1])\n",
    "X_test_LSTM.shape"
   ]
  },
  {
   "cell_type": "code",
   "execution_count": 18,
   "metadata": {},
   "outputs": [
    {
     "name": "stderr",
     "output_type": "stream",
     "text": [
      "WARNING:absl:Compiled the loaded model, but the compiled metrics have yet to be built. `model.compile_metrics` will be empty until you train or evaluate the model.\n"
     ]
    },
    {
     "name": "stdout",
     "output_type": "stream",
     "text": [
      "\u001b[1m12204/12204\u001b[0m \u001b[32m━━━━━━━━━━━━━━━━━━━━\u001b[0m\u001b[37m\u001b[0m \u001b[1m13s\u001b[0m 1ms/step\n",
      "(390500,)\n",
      "(390500,)\n",
      "ASR on LSTM-based IDS: 33.94%\n"
     ]
    }
   ],
   "source": [
    "#LSTM\n",
    "import tensorflow as tf\n",
    "model = tf.keras.models.load_model('d:\\\\IDSGAN\\\\IDSGAN-main\\\\IDSGAN\\\\Dataset\\\\Edge-IIoTset\\\\LSTM.h5')\n",
    "# model = tf.keras.models.load_model('d:\\\\IDSGAN\\\\IDSGAN-main\\\\IDSGAN\\\\Dataset\\\\Edge-IIoTset\\\\LSTM_pretrain.h5')\n",
    "y_pred = model.predict(X_test_LSTM)\n",
    "y_pred = np.argmax(y_pred, axis=1)\n",
    "\n",
    "print(np.shape(y_test))\n",
    "print(np.shape(y_pred))\n",
    "\n",
    "#Calculate ASR\n",
    "\n",
    "original_labels = np.array(y_test)\n",
    "attacked_labels = np.array(y_pred)\n",
    "\n",
    "# Calculate misclassified label\n",
    "num_misclassified = np.sum(original_labels != attacked_labels)\n",
    "\n",
    "# Total attack samples\n",
    "total_samples = len(original_labels)\n",
    "\n",
    "asr = num_misclassified / total_samples\n",
    "print(f\"ASR on LSTM-based IDS: {asr:.2%}\")\n"
   ]
  },
  {
   "cell_type": "code",
   "execution_count": 19,
   "metadata": {},
   "outputs": [
    {
     "name": "stderr",
     "output_type": "stream",
     "text": [
      "WARNING:absl:Compiled the loaded model, but the compiled metrics have yet to be built. `model.compile_metrics` will be empty until you train or evaluate the model.\n"
     ]
    },
    {
     "name": "stdout",
     "output_type": "stream",
     "text": [
      "\u001b[1m12204/12204\u001b[0m \u001b[32m━━━━━━━━━━━━━━━━━━━━\u001b[0m\u001b[37m\u001b[0m \u001b[1m16s\u001b[0m 1ms/step\n",
      "(390500,)\n",
      "(390500,)\n",
      "ASR on LSTM-based IDS: 36.20%\n"
     ]
    }
   ],
   "source": [
    "#LSTM\n",
    "import tensorflow as tf\n",
    "# model = tf.keras.models.load_model('d:\\\\IDSGAN\\\\IDSGAN-main\\\\IDSGAN\\\\Dataset\\\\Edge-IIoTset\\\\LSTM.h5')\n",
    "model = tf.keras.models.load_model('d:\\\\IDSGAN\\\\IDSGAN-main\\\\IDSGAN\\\\Dataset\\\\Edge-IIoTset\\\\LSTM_pretrain.h5')\n",
    "y_pred = model.predict(X_test_LSTM)\n",
    "y_pred = np.argmax(y_pred, axis=1)\n",
    "\n",
    "print(np.shape(y_test))\n",
    "print(np.shape(y_pred))\n",
    "\n",
    "#Calculate ASR\n",
    "\n",
    "original_labels = np.array(y_test)\n",
    "attacked_labels = np.array(y_pred)\n",
    "\n",
    "# Calculate misclassified label\n",
    "num_misclassified = np.sum(original_labels != attacked_labels)\n",
    "\n",
    "# Total attack samples\n",
    "total_samples = len(original_labels)\n",
    "\n",
    "asr = num_misclassified / total_samples\n",
    "print(f\"ASR on LSTM-based IDS: {asr:.2%}\")\n"
   ]
  },
  {
   "cell_type": "markdown",
   "metadata": {},
   "source": [
    "**Defense Method**"
   ]
  },
  {
   "cell_type": "markdown",
   "metadata": {},
   "source": [
    "MANDA"
   ]
  },
  {
   "cell_type": "code",
   "execution_count": null,
   "metadata": {},
   "outputs": [],
   "source": [
    "#MANDA\n",
    "import numpy as np\n",
    "import pandas as pd\n",
    "import tensorflow as tf\n",
    "from tensorflow.keras.models import load_model\n",
    "from tensorflow.keras.preprocessing.sequence import pad_sequences\n",
    "from sklearn.preprocessing import StandardScaler, LabelEncoder\n",
    "from sklearn.ensemble import RandomForestClassifier\n",
    "from sklearn.linear_model import LogisticRegression\n",
    "\n",
    "# Ensure reproducibility\n",
    "np.random.seed(42)\n",
    "tf.random.set_seed(42)\n",
    "\n",
    "# Load the dataset\n",
    "df = pd.read_csv('preprocessed.csv')  # Real dataset\n",
    "GAN_df = pd.read_csv('preprocessed_gan.csv')  # Synthetic dataset\n",
    "\n",
    "# Prepare features and labels\n",
    "X_real = df.drop(columns=['Attack_type']).values\n",
    "y_real = df['Attack_type'].values\n",
    "X_gan = GAN_df.drop(columns=['Attack_type']).values\n",
    "y_gan = GAN_df['Attack_type'].values\n",
    "\n",
    "# Standardize features\n",
    "scaler = StandardScaler()\n",
    "X_real = scaler.fit_transform(X_real)\n",
    "X_gan = scaler.transform(X_gan)\n",
    "\n",
    "# Encode labels\n",
    "def encode_labels(y):\n",
    "    le = LabelEncoder()\n",
    "    return le.fit_transform(y), le\n",
    "\n",
    "y_real, label_encoder = encode_labels(y_real)\n",
    "y_gan = label_encoder.transform(y_gan)\n",
    "\n",
    "# Load pre-trained IDS model (CNN + GRU)\n",
    "ids_model = load_model('C:\\\\Users\\\\DUCLUONG\\\\Downloads\\\\CNN_GRU.h5')\n",
    "#ids_model = load_model('C:\\\\Users\\\\DUCLUONG\\\\Downloads\\\\CNN_3_layers.h5')\n",
    "#ids_model = load_model('C:\\\\Users\\\\DUCLUONG\\\\Downloads\\\\CNN_5_layers.h5')\n",
    "#ids_model = load_model('C:\\\\Users\\\\DUCLUONG\\\\Downloads\\\\CNN_7_layers.h5')\n",
    "#ids_model = load_model('C:\\\\Users\\\\DUCLUONG\\\\Downloads\\\\LSTM.h5')\n",
    "# Reshape function for CNN-GRU input\n",
    "def reshape_for_cnn_7(X, target_shape=(30, 30, 1)):\n",
    "    \"\"\"Reshape input to match Conv2D input shape with padding if needed.\"\"\"\n",
    "    num_features = target_shape[0] * target_shape[1]  # 30x30 = 900\n",
    "    X_padded = pad_sequences(X, maxlen=num_features, padding='post', dtype='float32')\n",
    "    X_padded = X_padded.reshape((X.shape[0], *target_shape))  # Reshape to (batch_size, 30, 30, 1)\n",
    "    return X_padded\n",
    "\n",
    "def batch_predict(model, X, batch_size=512):\n",
    "    \"\"\"Predict model outputs in batches to save memory.\"\"\"\n",
    "    preds = []\n",
    "    for i in range(0, X.shape[0], batch_size):\n",
    "        X_batch = X[i:i + batch_size]\n",
    "        preds_batch = model.predict(X_batch, verbose=0)\n",
    "        preds.append(preds_batch)\n",
    "    return np.vstack(preds)\n",
    "\n",
    "class MANDA:\n",
    "    def __init__(self, manifold_model, threshold_std=3, threshold_boundary=0.1):\n",
    "        self.manifold_model = manifold_model  # Strong manifold-based model\n",
    "        self.threshold_std = threshold_std\n",
    "        self.threshold_boundary = threshold_boundary\n",
    "\n",
    "    def compute_manifold_score(self, X, model_probs):\n",
    "        \"\"\"Compute manifold-based inconsistency scores.\"\"\"\n",
    "        scores = []\n",
    "        batch_size = 512\n",
    "        for i in range(0, X.shape[0], batch_size):\n",
    "            X_batch = X[i:i + batch_size]\n",
    "            manifold_probs = self.manifold_model.predict_proba(X_batch)\n",
    "            score_batch = np.abs(model_probs[i:i + batch_size] - manifold_probs).sum(axis=1)\n",
    "            scores.extend(score_batch)\n",
    "        return np.array(scores)\n",
    "\n",
    "    def compute_boundary_score(self, X, model):\n",
    "        \"\"\"Compute decision boundary scores based on perturbation.\"\"\"\n",
    "        scores = []\n",
    "        batch_size = 512\n",
    "        for i in range(0, X.shape[0], batch_size):\n",
    "            X_batch = X[i:i + batch_size]\n",
    "            perturbations = np.random.normal(0, 0.01, X_batch.shape)\n",
    "            X_perturbed = X_batch + perturbations\n",
    "\n",
    "            X_batch_reshaped = reshape_for_cnn_7(X_batch)\n",
    "            X_perturbed_reshaped = reshape_for_cnn_7(X_perturbed)\n",
    "\n",
    "            orig_preds = model.predict(X_batch_reshaped, verbose=0)\n",
    "            perturbed_preds = model.predict(X_perturbed_reshaped, verbose=0)\n",
    "            score_batch = np.linalg.norm(orig_preds - perturbed_preds, axis=1)\n",
    "            scores.extend(score_batch)\n",
    "        return np.array(scores)\n",
    "\n",
    "    def detect_adversarial(self, X, y, model):\n",
    "        \"\"\"Detect adversarial examples.\"\"\"\n",
    "        X_reshaped = reshape_for_cnn_7(X)\n",
    "        model_probs = batch_predict(model, X_reshaped)\n",
    "        predictions = np.argmax(model_probs, axis=1)\n",
    "\n",
    "        # Compute scores\n",
    "        score1 = self.compute_manifold_score(X, model_probs)\n",
    "        score2 = self.compute_boundary_score(X, model)\n",
    "\n",
    "        # Áp dụng ngưỡng để xác định adversarial examples\n",
    "        threshold_score1 = np.percentile(score1, 95)  # Ngưỡng dựa trên phân vị 95%\n",
    "        threshold_score2 = np.percentile(score2, 95)\n",
    "\n",
    "        adversarial_flags = (score1 > threshold_score1) | (score2 > threshold_score2)\n",
    "\n",
    "        # Combine scores for logistic regression\n",
    "        combined_scores = np.vstack([score1, score2]).T\n",
    "        is_adversarial = adversarial_flags.astype(int)\n",
    "        return is_adversarial, combined_scores\n",
    "\n",
    "\n",
    "    def train_combined_model(self, X_clean, y_clean, X_adv, y_adv, model):\n",
    "        \"\"\"Train logistic regression to combine manifold and decision boundary scores.\"\"\"\n",
    "        # Combine clean and adversarial data\n",
    "        X_combined = np.vstack([X_clean, X_adv])\n",
    "        y_combined = np.hstack([np.zeros(len(X_clean)), np.ones(len(X_adv))])\n",
    "\n",
    "        # Compute probabilities and scores\n",
    "        X_combined_reshaped = reshape_for_cnn_7(X_combined)\n",
    "        model_probs = batch_predict(model, X_combined_reshaped)\n",
    "\n",
    "        score1 = self.compute_manifold_score(X_combined, model_probs)\n",
    "        score2 = self.compute_boundary_score(X_combined, model)\n",
    "        combined_scores = np.vstack([score1, score2]).T\n",
    "\n",
    "        # Train logistic regression\n",
    "        self.logistic_model = LogisticRegression()\n",
    "        self.logistic_model.fit(combined_scores, y_combined)\n",
    "\n",
    "# Train a Random Forest model as the manifold model\n",
    "manifold_model = RandomForestClassifier(n_estimators=100, random_state=42)\n",
    "manifold_model.fit(X_real, y_real)\n",
    "\n",
    "# Train MANDA\n",
    "manda = MANDA(manifold_model=manifold_model)\n",
    "manda.train_combined_model(X_real, y_real, X_gan, y_gan, ids_model)\n",
    "\n",
    "# Detect adversarial examples\n",
    "is_adversarial, combined_scores = manda.detect_adversarial(X_gan, y_gan, ids_model)\n",
    "\n",
    "# Report results\n",
    "print(f\"Detected {is_adversarial.sum()} adversarial examples out of {len(X_gan)} samples.\")\n"
   ]
  },
  {
   "cell_type": "markdown",
   "metadata": {},
   "source": [
    "KDE"
   ]
  },
  {
   "cell_type": "code",
   "execution_count": null,
   "metadata": {},
   "outputs": [],
   "source": [
    "import numpy as np\n",
    "from sklearn.neighbors import KernelDensity\n",
    "import joblib\n",
    "# KDE-based detection\n",
    "def kde_detect_adversarial(original_data, adversarial_data, bandwidth=1.0, threshold=0.1):\n",
    "    \"\"\"\n",
    "    Detect adversarial attacks using Kernel Density Estimation (KDE).\n",
    "    \n",
    "    Args:\n",
    "        original_data (numpy.ndarray): Clean data samples.\n",
    "        adversarial_data (numpy.ndarray): Adversarial examples.\n",
    "        bandwidth (float): Bandwidth for the KDE model.\n",
    "        threshold (float): Threshold for detecting anomalies.\n",
    "    \n",
    "    Returns:\n",
    "        bool: True if adversarial attack detected, False otherwise.\n",
    "    \"\"\"\n",
    "    # Fit KDE model on original data\n",
    "    # kde = KernelDensity(kernel='gaussian', bandwidth=bandwidth)\n",
    "    # kde.fit(original_data)\n",
    "    # joblib.dump(kde, 'kde_model.pkl')\n",
    "\n",
    "    kde = joblib.load('kde_model.pkl')\n",
    "    # Calculate log density for adversarial data\n",
    "    log_density_adv = kde.score_samples(adversarial_data)\n",
    "    \n",
    "    # Compute mean log density of adversarial samples\n",
    "    mean_log_density_adv = np.mean(log_density_adv)\n",
    "    \n",
    "    print(f\"Mean Log Density (Adversarial): {mean_log_density_adv}\")\n",
    "    \n",
    "    # Detect adversarial attacks based on threshold\n",
    "    return mean_log_density_adv < threshold\n",
    "\n",
    "# Example usage\n",
    "# Simulated data\n",
    "# original_data = np.random.rand(1000, 96)  # Replace with your original feature data\n",
    "# adversarial_data = np.random.rand(1000, 96) + 0.1  # Replace with your adversarial examples\n",
    "# adversarial_data = original_data[:20000]\n",
    "\n",
    "# Detect adversarial attacks\n",
    "if kde_detect_adversarial(original_data, adversarial_data, bandwidth=1.0, threshold=-200):\n",
    "    print(\"Adversarial attack detected!\")\n",
    "else:\n",
    "    print(\"No adversarial attack detected.\")"
   ]
  }
 ],
 "metadata": {
  "colab": {
   "authorship_tag": "ABX9TyPAJs6YimRn/ecMq5Bs8BUz",
   "mount_file_id": "1agGYqei9nLX8sfhCk8PFf5T1-7jVEz2_",
   "provenance": []
  },
  "kernelspec": {
   "display_name": "myenv",
   "language": "python",
   "name": "python3"
  },
  "language_info": {
   "codemirror_mode": {
    "name": "ipython",
    "version": 3
   },
   "file_extension": ".py",
   "mimetype": "text/x-python",
   "name": "python",
   "nbconvert_exporter": "python",
   "pygments_lexer": "ipython3",
   "version": "3.12.8"
  }
 },
 "nbformat": 4,
 "nbformat_minor": 0
}
